{
 "cells": [
  {
   "cell_type": "code",
   "execution_count": 747,
   "metadata": {
    "_cell_guid": "b1076dfc-b9ad-4769-8c92-a6c4dae69d19",
    "_uuid": "8f2839f25d086af736a60e9eeb907d3b93b6e0e5"
   },
   "outputs": [
    {
     "ename": "ImportError",
     "evalue": "cannot import name 'add_datepart' from 'fastai.tabular' (C:\\Users\\Nimish\\Anaconda3\\lib\\site-packages\\fastai\\tabular\\__init__.py)",
     "output_type": "error",
     "traceback": [
      "\u001b[1;31m---------------------------------------------------------------------------\u001b[0m",
      "\u001b[1;31mImportError\u001b[0m                               Traceback (most recent call last)",
      "\u001b[1;32m<ipython-input-747-e4a6338afb18>\u001b[0m in \u001b[0;36m<module>\u001b[1;34m\u001b[0m\n\u001b[0;32m      3\u001b[0m \u001b[1;32mimport\u001b[0m \u001b[0mpandas\u001b[0m \u001b[1;32mas\u001b[0m \u001b[0mpd\u001b[0m \u001b[1;31m# data processing, CSV file I/O (e.g. pd.read_csv)\u001b[0m\u001b[1;33m\u001b[0m\u001b[1;33m\u001b[0m\u001b[0m\n\u001b[0;32m      4\u001b[0m \u001b[1;32mfrom\u001b[0m \u001b[0mfastai\u001b[0m\u001b[1;33m.\u001b[0m\u001b[0mtabular\u001b[0m \u001b[1;32mimport\u001b[0m \u001b[1;33m*\u001b[0m\u001b[1;33m\u001b[0m\u001b[1;33m\u001b[0m\u001b[0m\n\u001b[1;32m----> 5\u001b[1;33m \u001b[1;32mfrom\u001b[0m \u001b[0mfastai\u001b[0m\u001b[1;33m.\u001b[0m\u001b[0mtabular\u001b[0m \u001b[1;32mimport\u001b[0m \u001b[0madd_datepart\u001b[0m\u001b[1;33m\u001b[0m\u001b[1;33m\u001b[0m\u001b[0m\n\u001b[0m\u001b[0;32m      6\u001b[0m \u001b[1;32mimport\u001b[0m \u001b[0mmatplotlib\u001b[0m\u001b[1;33m.\u001b[0m\u001b[0mpyplot\u001b[0m \u001b[1;32mas\u001b[0m \u001b[0mplt\u001b[0m\u001b[1;33m\u001b[0m\u001b[1;33m\u001b[0m\u001b[0m\n\u001b[0;32m      7\u001b[0m \u001b[1;32mfrom\u001b[0m \u001b[0msklearn\u001b[0m\u001b[1;33m.\u001b[0m\u001b[0mmetrics\u001b[0m \u001b[1;32mimport\u001b[0m \u001b[0mmean_squared_error\u001b[0m\u001b[1;33m\u001b[0m\u001b[1;33m\u001b[0m\u001b[0m\n",
      "\u001b[1;31mImportError\u001b[0m: cannot import name 'add_datepart' from 'fastai.tabular' (C:\\Users\\Nimish\\Anaconda3\\lib\\site-packages\\fastai\\tabular\\__init__.py)"
     ]
    }
   ],
   "source": [
    "%matplotlib inline\n",
    "import numpy as np # linear algebra\n",
    "import pandas as pd # data processing, CSV file I/O (e.g. pd.read_csv)\n",
    "from fastai.tabular import *\n",
    "from fastai.tabular import add_datepart\n",
    "import matplotlib.pyplot as plt\n",
    "from sklearn.metrics import mean_squared_error\n",
    "from math import sqrt\n",
    "from sklearn.ensemble import RandomForestRegressor\n",
    "from IPython.core.debugger import set_trace\n",
    "from sklearn.model_selection import KFold\n",
    "\n",
    "import os\n",
    "print(os.listdir(\"../data/\"))\n",
    "PATH = \"../data/\""
   ]
  },
  {
   "cell_type": "code",
   "execution_count": 744,
   "metadata": {
    "_cell_guid": "79c7e3d0-c299-4dcb-8224-4455121ee9b0",
    "_uuid": "d629ff2d2480ee46fbb7e2d37f6b5fab8052498a"
   },
   "outputs": [],
   "source": [
    "df_train = pd.read_csv(f'{PATH}Train_dataset.csv', parse_dates=['Opening Day of Restaurant'])\n",
    "df_test = pd.read_csv(f'{PATH}Test_dataset.csv', parse_dates=['Opening Day of Restaurant'])\n",
    "\n",
    "df_joined = pd.concat([df_train.drop('Annual Turnover', axis=1), df_test], axis=0)"
   ]
  },
  {
   "cell_type": "code",
   "execution_count": 745,
   "metadata": {
    "_uuid": "97342d99d77107ada350888a0e0837c3741c7f1b"
   },
   "outputs": [],
   "source": [
    "def score(model, X_train, y_train, X_valid = [], y_valid = []):\n",
    "    #set_trace()\n",
    "    rms = sqrt(mean_squared_error(np.square(np.exp(y_train)), np.square(np.exp(model.predict(X_train)))))\n",
    "    score = [rms, model.score(X_train, y_train)]\n",
    "    \n",
    "    if len(X_valid) != 0 and len(y_valid) != 0:\n",
    "        score.append(sqrt(mean_squared_error(np.square(np.exp(y_valid)), np.square(np.exp(model.predict(X_valid))))))\n",
    "        \n",
    "    if model.oob_score:\n",
    "        score.append(model.oob_score_)\n",
    "    \n",
    "    return score\n",
    "\n",
    "\n",
    "n_train = df_train.shape[0]\n",
    "\n",
    "def prcs(df, fe=[]):\n",
    "    add_datepart(df, 'Opening Day of Restaurant')\n",
    "    \n",
    "    if 'city' in fe:\n",
    "        df = df.drop('City', axis=1)\n",
    "    # Quitamos el outlier (16)\n",
    "    if 'outlier' in fe:\n",
    "        df = df.drop(index=16, axis=0)\n",
    "    \n",
    "    if 'MB' in fe:\n",
    "        # No hay apenas tipo 'MB'\n",
    "        df['Type'] = df['Type'].replace('MB', 'DT')\n",
    "    \n",
    "    if 'city_group' in fe:\n",
    "        df = df.drop('City Group', axis=1)\n",
    "    \n",
    "    if 'dummies' in fe:\n",
    "        #Get dummies\n",
    "        p_cols = [ f'P{n}' for n in range(1,38)]\n",
    "            \n",
    "        df = pd.get_dummies(df, columns=p_cols)\n",
    "        if 'city_group' not in fe:\n",
    "            df = pd.get_dummies(df, columns=['City Group'], drop_first=True)\n",
    "        df = pd.get_dummies(df, columns=['Type'])\n",
    "    \n",
    "    #Train cats\n",
    "    train_cats(df)\n",
    "\n",
    "    X, _, _ = proc_df(df, None)\n",
    "    drop_cols = ['Open Year', 'Open Month', 'Open Week', 'Open Day', 'Open Dayofweek',\n",
    "       'Open Dayofyear', 'Open Is_month_end', 'Open Is_month_start',\n",
    "       'Open Is_quarter_end', 'Open Is_quarter_start', 'Open Is_year_end',\n",
    "       'Open Is_year_start']\n",
    "    \n",
    "    X = X.drop(drop_cols, axis=1)\n",
    "    # La columna Id no aporta nada\n",
    "    if 'id' in fe:\n",
    "        X = X.drop('Id', axis=1)\n",
    "    \n",
    "    if 'scale_open' in fe:\n",
    "        X['Open Elapsed'] = (X['Open Elapsed']/1000).apply(np.log)\n",
    "    \n",
    "    X_train = X[:n_train]\n",
    "    X_test = X[n_train:]\n",
    "    \n",
    "    return X_train, X_test\n",
    "\n",
    "def train_cv(X, y):\n",
    "    models = []\n",
    "    scores = []\n",
    "    \n",
    "    kf = KFold(n_splits=4, random_state=12, shuffle=False)\n",
    "    for train_index, val_index in kf.split(X):\n",
    "        X_train_ = X.iloc[train_index]\n",
    "        y_train_ = y.iloc[train_index]\n",
    "        X_val_ = X.iloc[val_index]\n",
    "        y_val_ = y.iloc[val_index]\n",
    "        m = RandomForestRegressor(n_jobs=-1, n_estimators=100, max_features=0.5, oob_score=True)\n",
    "        m.fit(X_train_, y_train_)\n",
    "        models.append(m)\n",
    "        scores.append(score(m, X_train_, y_train_, X_val_, y_val_))\n",
    "        \n",
    "    return models, np.array(scores).mean(axis=0)\n",
    "\n",
    "def predict(models, X):\n",
    "    f = 1 / len(models)\n",
    "    pred = 0\n",
    "    for m in models:\n",
    "        pred += f * m.predict(X)\n",
    "    \n",
    "    return pred"
   ]
  },
  {
   "cell_type": "code",
   "execution_count": 746,
   "metadata": {
    "_uuid": "ab518b9eef38fbe292b99f743d631eafd6d7b362"
   },
   "outputs": [
    {
     "ename": "NameError",
     "evalue": "name 'add_datepart' is not defined",
     "output_type": "error",
     "traceback": [
      "\u001b[1;31m---------------------------------------------------------------------------\u001b[0m",
      "\u001b[1;31mNameError\u001b[0m                                 Traceback (most recent call last)",
      "\u001b[1;32m<ipython-input-746-8864ec289cb7>\u001b[0m in \u001b[0;36m<module>\u001b[1;34m\u001b[0m\n\u001b[1;32m----> 1\u001b[1;33m \u001b[0mX_train\u001b[0m\u001b[1;33m,\u001b[0m \u001b[0mX_test\u001b[0m \u001b[1;33m=\u001b[0m \u001b[0mprcs\u001b[0m\u001b[1;33m(\u001b[0m\u001b[0mdf_joined\u001b[0m\u001b[1;33m.\u001b[0m\u001b[0mcopy\u001b[0m\u001b[1;33m(\u001b[0m\u001b[1;33m)\u001b[0m\u001b[1;33m)\u001b[0m\u001b[1;33m\u001b[0m\u001b[1;33m\u001b[0m\u001b[0m\n\u001b[0m\u001b[0;32m      2\u001b[0m \u001b[0my_train\u001b[0m \u001b[1;33m=\u001b[0m \u001b[0mdf_train\u001b[0m\u001b[1;33m[\u001b[0m\u001b[1;34m'Annual Turnover'\u001b[0m\u001b[1;33m]\u001b[0m\u001b[1;33m.\u001b[0m\u001b[0mcopy\u001b[0m\u001b[1;33m(\u001b[0m\u001b[1;33m)\u001b[0m\u001b[1;33m.\u001b[0m\u001b[0mapply\u001b[0m\u001b[1;33m(\u001b[0m\u001b[0mnp\u001b[0m\u001b[1;33m.\u001b[0m\u001b[0mlog\u001b[0m\u001b[1;33m)\u001b[0m\u001b[1;33m\u001b[0m\u001b[1;33m\u001b[0m\u001b[0m\n",
      "\u001b[1;32m<ipython-input-745-cf54fea74b77>\u001b[0m in \u001b[0;36mprcs\u001b[1;34m(df, fe)\u001b[0m\n\u001b[0;32m     16\u001b[0m \u001b[1;33m\u001b[0m\u001b[0m\n\u001b[0;32m     17\u001b[0m \u001b[1;32mdef\u001b[0m \u001b[0mprcs\u001b[0m\u001b[1;33m(\u001b[0m\u001b[0mdf\u001b[0m\u001b[1;33m,\u001b[0m \u001b[0mfe\u001b[0m\u001b[1;33m=\u001b[0m\u001b[1;33m[\u001b[0m\u001b[1;33m]\u001b[0m\u001b[1;33m)\u001b[0m\u001b[1;33m:\u001b[0m\u001b[1;33m\u001b[0m\u001b[1;33m\u001b[0m\u001b[0m\n\u001b[1;32m---> 18\u001b[1;33m     \u001b[0madd_datepart\u001b[0m\u001b[1;33m(\u001b[0m\u001b[0mdf\u001b[0m\u001b[1;33m,\u001b[0m \u001b[1;34m'Opening Day of Restaurant'\u001b[0m\u001b[1;33m)\u001b[0m\u001b[1;33m\u001b[0m\u001b[1;33m\u001b[0m\u001b[0m\n\u001b[0m\u001b[0;32m     19\u001b[0m \u001b[1;33m\u001b[0m\u001b[0m\n\u001b[0;32m     20\u001b[0m     \u001b[1;32mif\u001b[0m \u001b[1;34m'city'\u001b[0m \u001b[1;32min\u001b[0m \u001b[0mfe\u001b[0m\u001b[1;33m:\u001b[0m\u001b[1;33m\u001b[0m\u001b[1;33m\u001b[0m\u001b[0m\n",
      "\u001b[1;31mNameError\u001b[0m: name 'add_datepart' is not defined"
     ]
    }
   ],
   "source": [
    "X_train, X_test = prcs(df_joined.copy())\n",
    "y_train = df_train['Annual Turnover'].copy().apply(np.log)"
   ]
  },
  {
   "cell_type": "code",
   "execution_count": null,
   "metadata": {
    "_uuid": "db3bf7e7697d3d25a348cc59c30f71c0c6190975"
   },
   "outputs": [],
   "source": [
    "m = RandomForestRegressor(n_jobs=-1, n_estimators=150, oob_score=True, max_features=0.5)\n",
    "m.fit(X_train, y_train)\n",
    "score(m,X_train, y_train)"
   ]
  },
  {
   "cell_type": "code",
   "execution_count": null,
   "metadata": {
    "_uuid": "bf3c6dd51d0f58e1f8103dd6bff7064d34ce4d02"
   },
   "outputs": [],
   "source": [
    "df_preds = pd.DataFrame(columns=['Prediction'],index=X_test.index, data=np.exp(predict(m, X_test)))\n",
    "df_preds.to_csv('submission0.csv', index=True, index_label='Id')\n",
    "df_preds.head()"
   ]
  },
  {
   "cell_type": "markdown",
   "metadata": {
    "_uuid": "35d97eb897037f2f267af9208484538085dd1969"
   },
   "source": [
    "### RMSE 1.92 M (Rank 1600)"
   ]
  },
  {
   "cell_type": "markdown",
   "metadata": {
    "_uuid": "165844a943432000280a71132e4ac915392f78df"
   },
   "source": [
    "# Cross-validation y Ensembling "
   ]
  },
  {
   "cell_type": "code",
   "execution_count": null,
   "metadata": {
    "_uuid": "c0f541e9fa4ed5bbb0264726b6b60ae1d2b4f98a"
   },
   "outputs": [],
   "source": [
    "models, scores = train_cv(X_train, y_train)\n",
    "print(scores)"
   ]
  },
  {
   "cell_type": "code",
   "execution_count": null,
   "metadata": {
    "_uuid": "b6c1382a2fc047115fe523b2f4a8878809910bcd"
   },
   "outputs": [],
   "source": [
    "df_preds = pd.DataFrame(columns=['Prediction'],index=X_test.index, data=np.exp(predict(models, X_test)))\n",
    "df_preds.to_csv('submission1.csv', index=True, index_label='Id')\n",
    "df_preds.head()"
   ]
  },
  {
   "cell_type": "markdown",
   "metadata": {
    "_uuid": "5e7ffd6306b42a30ca67a4c5ece7f51688f0e2fd"
   },
   "source": [
    "### RMSE 1.83 M (Rank 600)"
   ]
  },
  {
   "cell_type": "markdown",
   "metadata": {
    "_uuid": "fedb842f6fb4aef12d022d39488b384daee2ecef"
   },
   "source": [
    "# Feature engineering"
   ]
  },
  {
   "cell_type": "markdown",
   "metadata": {
    "_uuid": "9ad2f607168bf00e673f8f44ee12320b57e9dca9"
   },
   "source": [
    "# Quitando columna \"Id\""
   ]
  },
  {
   "cell_type": "code",
   "execution_count": null,
   "metadata": {
    "_uuid": "bef4f4c44d9791691717c7acda3006898051a1de"
   },
   "outputs": [],
   "source": [
    "X_train, X_test = prcs(df_joined.copy(), fe=['id'])\n",
    "\n",
    "# Doble transformación para que la distribución sea Normal\n",
    "y_train = df_train['revenue'].copy().apply(np.sqrt).apply(np.log)"
   ]
  },
  {
   "cell_type": "code",
   "execution_count": null,
   "metadata": {
    "_uuid": "358d7cd5afc3fef8edbf80175451b81e728b167b"
   },
   "outputs": [],
   "source": [
    "models, scores = train_cv(X_train, y_train)\n",
    "print(scores)"
   ]
  },
  {
   "cell_type": "code",
   "execution_count": null,
   "metadata": {
    "_uuid": "9d5247fadbb049534495deb56aa10f7062c33cae"
   },
   "outputs": [],
   "source": [
    "df_preds = pd.DataFrame(columns=['Prediction'],index=X_test.index, data=np.square(np.exp(predict(models, X_test))))\n",
    "df_preds.to_csv('submission2.csv', index=True, index_label='Id')\n",
    "df_preds.head()"
   ]
  },
  {
   "cell_type": "markdown",
   "metadata": {
    "_uuid": "aa1dcd76ad0c1fa77610d5408999d0ad83295c27"
   },
   "source": [
    "### RMSE 1.82 M (Rank 600)"
   ]
  },
  {
   "cell_type": "markdown",
   "metadata": {
    "_uuid": "0dac43974432f7838a38d23796d8d63dae5401ed"
   },
   "source": [
    "## Añadiendo dummies en las variables categoricas "
   ]
  },
  {
   "cell_type": "code",
   "execution_count": null,
   "metadata": {
    "_uuid": "bef4f4c44d9791691717c7acda3006898051a1de"
   },
   "outputs": [],
   "source": [
    "X_train, X_test = prcs(df_joined.copy(), fe=['id', 'dummies'])\n",
    "\n",
    "# Doble transformación para que la distribución sea Normal\n",
    "y_train = df_train['revenue'].copy().apply(np.sqrt).apply(np.log)"
   ]
  },
  {
   "cell_type": "code",
   "execution_count": null,
   "metadata": {
    "_uuid": "358d7cd5afc3fef8edbf80175451b81e728b167b"
   },
   "outputs": [],
   "source": [
    "models, scores = train_cv(X_train, y_train)\n",
    "print(scores)"
   ]
  },
  {
   "cell_type": "code",
   "execution_count": null,
   "metadata": {
    "_uuid": "9d5247fadbb049534495deb56aa10f7062c33cae"
   },
   "outputs": [],
   "source": [
    "df_preds = pd.DataFrame(columns=['Prediction'],index=X_test.index, data=np.square(np.exp(predict(models, X_test))))\n",
    "df_preds.to_csv('submission3.csv', index=True, index_label='Id')\n",
    "df_preds.head()"
   ]
  },
  {
   "cell_type": "markdown",
   "metadata": {
    "_uuid": "ecbae4c60808c1db0d8434bffd0c95959b1f2abf"
   },
   "source": [
    "### RMSE 1.784 M (Rank 75)"
   ]
  },
  {
   "cell_type": "markdown",
   "metadata": {
    "_uuid": "7df59192461f4faf4383a1ea2a2eddb7bd42cbd1"
   },
   "source": [
    "## Quitando columna 'City' "
   ]
  },
  {
   "cell_type": "code",
   "execution_count": null,
   "metadata": {
    "_uuid": "bef4f4c44d9791691717c7acda3006898051a1de"
   },
   "outputs": [],
   "source": [
    "X_train, X_test = prcs(df_joined.copy(), fe=['id', 'dummies', 'city'])\n",
    "\n",
    "# Doble transformación para que la distribución sea Normal\n",
    "y_train = df_train['revenue'].copy().apply(np.sqrt).apply(np.log)"
   ]
  },
  {
   "cell_type": "code",
   "execution_count": null,
   "metadata": {
    "_uuid": "358d7cd5afc3fef8edbf80175451b81e728b167b"
   },
   "outputs": [],
   "source": [
    "models, scores = train_cv(X_train, y_train)\n",
    "print(scores)"
   ]
  },
  {
   "cell_type": "code",
   "execution_count": null,
   "metadata": {
    "_uuid": "9d5247fadbb049534495deb56aa10f7062c33cae"
   },
   "outputs": [],
   "source": [
    "df_preds = pd.DataFrame(columns=['Prediction'],index=X_test.index, data=np.square(np.exp(predict(models, X_test))))\n",
    "df_preds.to_csv('submission4.csv', index=True, index_label='Id')\n",
    "df_preds.head()"
   ]
  },
  {
   "cell_type": "markdown",
   "metadata": {
    "_uuid": "0965ee25e7e05a891df5b2724903540273b54ebd"
   },
   "source": [
    "### RMSE 1.71 M (Rank 1)"
   ]
  },
  {
   "cell_type": "markdown",
   "metadata": {
    "_uuid": "7df59192461f4faf4383a1ea2a2eddb7bd42cbd1"
   },
   "source": [
    "## Quitando columna 'City Group' "
   ]
  },
  {
   "cell_type": "code",
   "execution_count": null,
   "metadata": {
    "_uuid": "bef4f4c44d9791691717c7acda3006898051a1de"
   },
   "outputs": [],
   "source": [
    "X_train, X_test = prcs(df_joined.copy(), fe=['id', 'dummies', 'city', 'city_group'])\n",
    "\n",
    "# Doble transformación para que la distribución sea Normal\n",
    "y_train = df_train['revenue'].copy().apply(np.sqrt).apply(np.log)"
   ]
  },
  {
   "cell_type": "code",
   "execution_count": null,
   "metadata": {
    "_uuid": "358d7cd5afc3fef8edbf80175451b81e728b167b"
   },
   "outputs": [],
   "source": [
    "models, scores = train_cv(X_train, y_train)\n",
    "print(scores)"
   ]
  },
  {
   "cell_type": "code",
   "execution_count": null,
   "metadata": {
    "_uuid": "9d5247fadbb049534495deb56aa10f7062c33cae"
   },
   "outputs": [],
   "source": [
    "df_preds = pd.DataFrame(columns=['Prediction'],index=X_test.index, data=np.square(np.exp(predict(models, X_test))))\n",
    "df_preds.to_csv('submission5.csv', index=True, index_label='Id')\n",
    "df_preds.head()"
   ]
  }
 ],
 "metadata": {
  "kernelspec": {
   "display_name": "Python 3",
   "language": "python",
   "name": "python3"
  },
  "language_info": {
   "codemirror_mode": {
    "name": "ipython",
    "version": 3
   },
   "file_extension": ".py",
   "mimetype": "text/x-python",
   "name": "python",
   "nbconvert_exporter": "python",
   "pygments_lexer": "ipython3",
   "version": "3.7.4"
  }
 },
 "nbformat": 4,
 "nbformat_minor": 1
}
