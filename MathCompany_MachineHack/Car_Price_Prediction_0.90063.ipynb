{
 "cells": [
  {
   "cell_type": "code",
   "execution_count": 2,
   "metadata": {},
   "outputs": [
    {
     "name": "stderr",
     "output_type": "stream",
     "text": [
      "C:\\Users\\Nimish\\Anaconda3\\lib\\site-packages\\numpy\\_distributor_init.py:32: UserWarning: loaded more than 1 DLL from .libs:\n",
      "C:\\Users\\Nimish\\Anaconda3\\lib\\site-packages\\numpy\\.libs\\libopenblas.PYQHXLVVQ7VESDPUVUADXEVJOBGHJPAY.gfortran-win_amd64.dll\n",
      "C:\\Users\\Nimish\\Anaconda3\\lib\\site-packages\\numpy\\.libs\\libopenblas.WCDJNK7YVMPZQ2ME2ZZHJJRJ3JIKNDB7.gfortran-win_amd64.dll\n",
      "  stacklevel=1)\n"
     ]
    },
    {
     "data": {
      "text/html": [
       "<style>.container { width:100% !important; }</style>"
      ],
      "text/plain": [
       "<IPython.core.display.HTML object>"
      ]
     },
     "metadata": {},
     "output_type": "display_data"
    }
   ],
   "source": [
    "# basics\n",
    "import pandas as pd\n",
    "import numpy as np\n",
    "import seaborn as sns\n",
    "import matplotlib.pyplot as plt\n",
    "import plotly.express as px\n",
    "from scipy import stats\n",
    "import statsmodels.api as sm\n",
    "from scipy.stats import chi2_contingency\n",
    "from tqdm import tqdm_notebook as tqdm\n",
    "from statsmodels.stats.outliers_influence import variance_inflation_factor\n",
    "import warnings\n",
    "warnings.filterwarnings('ignore')\n",
    "pd.set_option('display.max_columns',50)\n",
    "pd.set_option('display.max_rows',50)\n",
    "from IPython.core.interactiveshell import InteractiveShell\n",
    "InteractiveShell.ast_node_interactivity = \"all\"\n",
    "plt.rcParams['figure.figsize'] = [10, 5]\n",
    "from IPython.core.display import display, HTML\n",
    "display(HTML(\"<style>.container { width:100% !important; }</style>\"))\n",
    "\n",
    "\n",
    "# required imports\n",
    "import pickle\n",
    "import xgboost\n",
    "import catboost\n",
    "import lightgbm\n",
    "import sklearn\n",
    "\n",
    "# feature eng\n",
    "# import smogn\n",
    "import regex\n",
    "from sklearn.feature_selection import VarianceThreshold,SelectFromModel,RFE,RFECV\n",
    "from sklearn.decomposition import PCA\n",
    "from sklearn.inspection import permutation_importance\n",
    "from imblearn.over_sampling import SMOTE,SMOTENC\n",
    "from sklearn.model_selection import train_test_split,cross_val_score,StratifiedKFold,RepeatedStratifiedKFold,StratifiedShuffleSplit,KFold,LeaveOneOut,\\\n",
    "LeavePOut,GroupKFold,RandomizedSearchCV,GridSearchCV,ShuffleSplit,cross_validate,validation_curve,RepeatedKFold\n",
    "from sklearn.preprocessing import StandardScaler,MinMaxScaler,RobustScaler,MaxAbsScaler,QuantileTransformer,PowerTransformer\n",
    "from sklearn.preprocessing import LabelEncoder,OrdinalEncoder,OneHotEncoder\n",
    "from category_encoders import TargetEncoder\n",
    "from sklearn.pipeline import Pipeline\n",
    "from scipy.stats import boxcox\n",
    "from scipy.special import inv_boxcox\n",
    "\n",
    "# regression-all\n",
    "from sklearn.linear_model import LinearRegression,Ridge,Lasso,BayesianRidge\n",
    "from sklearn.svm import SVR\n",
    "from sklearn.neighbors import KNeighborsRegressor\n",
    "from sklearn.tree import DecisionTreeRegressor\n",
    "from sklearn.ensemble import RandomForestRegressor,AdaBoostRegressor,GradientBoostingRegressor,ExtraTreesRegressor\n",
    "from sklearn.linear_model import Ridge,Lasso\n",
    "from xgboost import XGBRegressor\n",
    "from catboost import CatBoostRegressor\n",
    "from lightgbm import LGBMRegressor\n",
    "\n",
    "from sklearn.metrics import mean_squared_log_error,make_scorer,mean_absolute_error,r2_score"
   ]
  },
  {
   "cell_type": "code",
   "execution_count": 3,
   "metadata": {},
   "outputs": [],
   "source": [
    "SEED = 0\n",
    "np.random.seed(SEED)"
   ]
  },
  {
   "cell_type": "code",
   "execution_count": 4,
   "metadata": {},
   "outputs": [],
   "source": [
    "def rmsle(y, y_pred, **kwargs):\n",
    "    out = np.sqrt(mean_squared_log_error(np.expm1(y), np.expm1(y_pred)))\n",
    "    return out\n",
    "                  \n",
    "rmsle_scorer = make_scorer(rmsle, greater_is_better=False)"
   ]
  },
  {
   "cell_type": "code",
   "execution_count": 5,
   "metadata": {},
   "outputs": [],
   "source": [
    "def data_encoder(ip_df,nom_list,ord_list,ohe_list,target_list):\n",
    "    try:\n",
    "        print(\"Inside Target Encoding\")\n",
    "        #Target Encoding for categorical features with high cardinality\n",
    "        if len(target_list):\n",
    "            te = TargetEncoder(cols = target_list)\n",
    "            for col in target_list:\n",
    "                ip_df[col] = te.fit_transform(ip_df[col], ip_df['Price'])\n",
    "        \n",
    "        print(\"Inside Label Encoding\")\n",
    "        #Label Encoding for nominal features\n",
    "        if len(nom_list):\n",
    "            le=LabelEncoder()\n",
    "            for col in nom_list:\n",
    "                ip_df[col]= le.fit_transform(ip_df[col])\n",
    "            \n",
    "        print(\"Inside Ordinal Encoding\")\n",
    "        # Ordinal Encoding for ordinal features\n",
    "        if len(ord_list):\n",
    "            oe = OrdinalEncoder()\n",
    "            ip_df[ord_list]= oe.fit_transform(ip_df[ord_list])\n",
    "                \n",
    "        print(\"Inside OneHot Encoding\")    \n",
    "        # One Hot Encoding\n",
    "        if len(ohe_list):\n",
    "            ip_df = pd.get_dummies(ip_df, columns=ohe_list,drop_first=True)\n",
    "#             ohe = OneHotEncoder(sparse=False)\n",
    "#             ip_df[ohe_list]= ohe.fit_transform(ip_df[ohe_list])\n",
    "        \n",
    "        print(ip_df.shape)\n",
    "        return ip_df\n",
    "    except Exception as e:\n",
    "        print(e)"
   ]
  },
  {
   "cell_type": "code",
   "execution_count": 6,
   "metadata": {},
   "outputs": [],
   "source": [
    "def data_scaler(df_ip):\n",
    "    try:\n",
    "        scaled_df = pd.DataFrame(\n",
    "                                 MinMaxScaler()  \\\n",
    "                                .fit_transform(df_ip),\n",
    "                                columns=df_ip.columns\n",
    "                                )\n",
    "        print(scaled_df.shape)\n",
    "        return scaled_df\n",
    "    except Exception as e:\n",
    "        print(e)"
   ]
  },
  {
   "cell_type": "markdown",
   "metadata": {
    "colab_type": "text",
    "id": "Vbx3QZvT-QrQ"
   },
   "source": [
    "### Importing data"
   ]
  },
  {
   "cell_type": "code",
   "execution_count": 7,
   "metadata": {
    "ExecuteTime": {
     "end_time": "2020-03-31T14:24:12.245825Z",
     "start_time": "2020-03-31T14:24:11.414900Z"
    },
    "colab": {},
    "colab_type": "code",
    "id": "L6Yxhq6b-QrR"
   },
   "outputs": [],
   "source": [
    "## Load the xlsx file available in the working or specified directory\n",
    "#os.chdir('C:\\\\GL Class\\DSBA - Python\\Predictive Modeling\\Week 1')\n",
    "df_train = pd.read_csv(\"train.csv\")\n",
    "df_test = pd.read_csv(\"test.csv\")"
   ]
  },
  {
   "cell_type": "code",
   "execution_count": 8,
   "metadata": {},
   "outputs": [
    {
     "data": {
      "text/plain": [
       "(19237, 18)"
      ]
     },
     "execution_count": 8,
     "metadata": {},
     "output_type": "execute_result"
    }
   ],
   "source": [
    "df_train.shape"
   ]
  },
  {
   "cell_type": "code",
   "execution_count": 9,
   "metadata": {},
   "outputs": [
    {
     "data": {
      "text/plain": [
       "(8245, 18)"
      ]
     },
     "execution_count": 9,
     "metadata": {},
     "output_type": "execute_result"
    }
   ],
   "source": [
    "df_test.shape"
   ]
  },
  {
   "cell_type": "code",
   "execution_count": 10,
   "metadata": {},
   "outputs": [],
   "source": [
    "df_test = df_test.drop(['Price'], axis=1)"
   ]
  },
  {
   "cell_type": "markdown",
   "metadata": {
    "id": "VRx9COdTpXAM"
   },
   "source": [
    "### Checking for Duplicates"
   ]
  },
  {
   "cell_type": "code",
   "execution_count": 11,
   "metadata": {
    "colab": {
     "base_uri": "https://localhost:8080/",
     "height": 138
    },
    "id": "HbMkBDEqpXAN",
    "outputId": "c0dfac90-f69e-4e21-959b-b34f9f65f98a"
   },
   "outputs": [
    {
     "name": "stdout",
     "output_type": "stream",
     "text": [
      "Number of duplicate rows in train set = 313\n"
     ]
    },
    {
     "data": {
      "text/html": [
       "<div>\n",
       "<style scoped>\n",
       "    .dataframe tbody tr th:only-of-type {\n",
       "        vertical-align: middle;\n",
       "    }\n",
       "\n",
       "    .dataframe tbody tr th {\n",
       "        vertical-align: top;\n",
       "    }\n",
       "\n",
       "    .dataframe thead th {\n",
       "        text-align: right;\n",
       "    }\n",
       "</style>\n",
       "<table border=\"1\" class=\"dataframe\">\n",
       "  <thead>\n",
       "    <tr style=\"text-align: right;\">\n",
       "      <th></th>\n",
       "      <th>ID</th>\n",
       "      <th>Price</th>\n",
       "      <th>Levy</th>\n",
       "      <th>Manufacturer</th>\n",
       "      <th>Model</th>\n",
       "      <th>Prod. year</th>\n",
       "      <th>Category</th>\n",
       "      <th>Leather interior</th>\n",
       "      <th>Fuel type</th>\n",
       "      <th>Engine volume</th>\n",
       "      <th>Mileage</th>\n",
       "      <th>Cylinders</th>\n",
       "      <th>Gear box type</th>\n",
       "      <th>Drive wheels</th>\n",
       "      <th>Doors</th>\n",
       "      <th>Wheel</th>\n",
       "      <th>Color</th>\n",
       "      <th>Airbags</th>\n",
       "    </tr>\n",
       "  </thead>\n",
       "  <tbody>\n",
       "    <tr>\n",
       "      <th>425</th>\n",
       "      <td>45815372</td>\n",
       "      <td>7840</td>\n",
       "      <td>-</td>\n",
       "      <td>MERCEDES-BENZ</td>\n",
       "      <td>E 200</td>\n",
       "      <td>1998</td>\n",
       "      <td>Sedan</td>\n",
       "      <td>No</td>\n",
       "      <td>CNG</td>\n",
       "      <td>2</td>\n",
       "      <td>180003 km</td>\n",
       "      <td>4.0</td>\n",
       "      <td>Manual</td>\n",
       "      <td>Rear</td>\n",
       "      <td>04-May</td>\n",
       "      <td>Left wheel</td>\n",
       "      <td>Black</td>\n",
       "      <td>4</td>\n",
       "    </tr>\n",
       "    <tr>\n",
       "      <th>1581</th>\n",
       "      <td>45815363</td>\n",
       "      <td>8781</td>\n",
       "      <td>-</td>\n",
       "      <td>TOYOTA</td>\n",
       "      <td>Ist</td>\n",
       "      <td>2002</td>\n",
       "      <td>Hatchback</td>\n",
       "      <td>No</td>\n",
       "      <td>Petrol</td>\n",
       "      <td>1.5</td>\n",
       "      <td>117000 km</td>\n",
       "      <td>4.0</td>\n",
       "      <td>Automatic</td>\n",
       "      <td>4x4</td>\n",
       "      <td>04-May</td>\n",
       "      <td>Right-hand drive</td>\n",
       "      <td>Red</td>\n",
       "      <td>4</td>\n",
       "    </tr>\n",
       "    <tr>\n",
       "      <th>1697</th>\n",
       "      <td>45732125</td>\n",
       "      <td>18503</td>\n",
       "      <td>-</td>\n",
       "      <td>TOYOTA</td>\n",
       "      <td>Prius</td>\n",
       "      <td>2010</td>\n",
       "      <td>Sedan</td>\n",
       "      <td>No</td>\n",
       "      <td>Petrol</td>\n",
       "      <td>1.8</td>\n",
       "      <td>162000 km</td>\n",
       "      <td>4.0</td>\n",
       "      <td>Automatic</td>\n",
       "      <td>Front</td>\n",
       "      <td>04-May</td>\n",
       "      <td>Left wheel</td>\n",
       "      <td>Grey</td>\n",
       "      <td>12</td>\n",
       "    </tr>\n",
       "    <tr>\n",
       "      <th>1972</th>\n",
       "      <td>45507765</td>\n",
       "      <td>20385</td>\n",
       "      <td>-</td>\n",
       "      <td>MERCEDES-BENZ</td>\n",
       "      <td>CLS 500</td>\n",
       "      <td>2005</td>\n",
       "      <td>Sedan</td>\n",
       "      <td>Yes</td>\n",
       "      <td>Petrol</td>\n",
       "      <td>5</td>\n",
       "      <td>230000 km</td>\n",
       "      <td>8.0</td>\n",
       "      <td>Tiptronic</td>\n",
       "      <td>Rear</td>\n",
       "      <td>04-May</td>\n",
       "      <td>Left wheel</td>\n",
       "      <td>Silver</td>\n",
       "      <td>10</td>\n",
       "    </tr>\n",
       "    <tr>\n",
       "      <th>2131</th>\n",
       "      <td>45815363</td>\n",
       "      <td>8781</td>\n",
       "      <td>-</td>\n",
       "      <td>TOYOTA</td>\n",
       "      <td>Ist</td>\n",
       "      <td>2002</td>\n",
       "      <td>Hatchback</td>\n",
       "      <td>No</td>\n",
       "      <td>Petrol</td>\n",
       "      <td>1.5</td>\n",
       "      <td>117000 km</td>\n",
       "      <td>4.0</td>\n",
       "      <td>Automatic</td>\n",
       "      <td>4x4</td>\n",
       "      <td>04-May</td>\n",
       "      <td>Right-hand drive</td>\n",
       "      <td>Red</td>\n",
       "      <td>4</td>\n",
       "    </tr>\n",
       "    <tr>\n",
       "      <th>...</th>\n",
       "      <td>...</td>\n",
       "      <td>...</td>\n",
       "      <td>...</td>\n",
       "      <td>...</td>\n",
       "      <td>...</td>\n",
       "      <td>...</td>\n",
       "      <td>...</td>\n",
       "      <td>...</td>\n",
       "      <td>...</td>\n",
       "      <td>...</td>\n",
       "      <td>...</td>\n",
       "      <td>...</td>\n",
       "      <td>...</td>\n",
       "      <td>...</td>\n",
       "      <td>...</td>\n",
       "      <td>...</td>\n",
       "      <td>...</td>\n",
       "      <td>...</td>\n",
       "    </tr>\n",
       "    <tr>\n",
       "      <th>18974</th>\n",
       "      <td>45815465</td>\n",
       "      <td>2352</td>\n",
       "      <td>1273</td>\n",
       "      <td>LEXUS</td>\n",
       "      <td>IS 350</td>\n",
       "      <td>2015</td>\n",
       "      <td>Sedan</td>\n",
       "      <td>Yes</td>\n",
       "      <td>Petrol</td>\n",
       "      <td>3.5</td>\n",
       "      <td>80856 km</td>\n",
       "      <td>6.0</td>\n",
       "      <td>Automatic</td>\n",
       "      <td>4x4</td>\n",
       "      <td>04-May</td>\n",
       "      <td>Left wheel</td>\n",
       "      <td>Black</td>\n",
       "      <td>12</td>\n",
       "    </tr>\n",
       "    <tr>\n",
       "      <th>19137</th>\n",
       "      <td>45810466</td>\n",
       "      <td>15125</td>\n",
       "      <td>642</td>\n",
       "      <td>CHEVROLET</td>\n",
       "      <td>Orlando</td>\n",
       "      <td>2012</td>\n",
       "      <td>Jeep</td>\n",
       "      <td>Yes</td>\n",
       "      <td>Diesel</td>\n",
       "      <td>2</td>\n",
       "      <td>156834 km</td>\n",
       "      <td>4.0</td>\n",
       "      <td>Automatic</td>\n",
       "      <td>Front</td>\n",
       "      <td>04-May</td>\n",
       "      <td>Left wheel</td>\n",
       "      <td>Golden</td>\n",
       "      <td>4</td>\n",
       "    </tr>\n",
       "    <tr>\n",
       "      <th>19200</th>\n",
       "      <td>45725908</td>\n",
       "      <td>36065</td>\n",
       "      <td>640</td>\n",
       "      <td>MERCEDES-BENZ</td>\n",
       "      <td>CLA 250 AMG</td>\n",
       "      <td>2013</td>\n",
       "      <td>Sedan</td>\n",
       "      <td>Yes</td>\n",
       "      <td>Petrol</td>\n",
       "      <td>2.0 Turbo</td>\n",
       "      <td>68000 km</td>\n",
       "      <td>4.0</td>\n",
       "      <td>Tiptronic</td>\n",
       "      <td>Front</td>\n",
       "      <td>04-May</td>\n",
       "      <td>Left wheel</td>\n",
       "      <td>Red</td>\n",
       "      <td>12</td>\n",
       "    </tr>\n",
       "    <tr>\n",
       "      <th>19203</th>\n",
       "      <td>45761487</td>\n",
       "      <td>13485</td>\n",
       "      <td>645</td>\n",
       "      <td>TOYOTA</td>\n",
       "      <td>Prius</td>\n",
       "      <td>2011</td>\n",
       "      <td>Sedan</td>\n",
       "      <td>No</td>\n",
       "      <td>Hybrid</td>\n",
       "      <td>1.8</td>\n",
       "      <td>281600 km</td>\n",
       "      <td>6.0</td>\n",
       "      <td>Automatic</td>\n",
       "      <td>Front</td>\n",
       "      <td>04-May</td>\n",
       "      <td>Left wheel</td>\n",
       "      <td>Grey</td>\n",
       "      <td>8</td>\n",
       "    </tr>\n",
       "    <tr>\n",
       "      <th>19210</th>\n",
       "      <td>45732939</td>\n",
       "      <td>8311</td>\n",
       "      <td>642</td>\n",
       "      <td>HYUNDAI</td>\n",
       "      <td>Sonata</td>\n",
       "      <td>2012</td>\n",
       "      <td>Sedan</td>\n",
       "      <td>Yes</td>\n",
       "      <td>LPG</td>\n",
       "      <td>2</td>\n",
       "      <td>36545 km</td>\n",
       "      <td>4.0</td>\n",
       "      <td>Automatic</td>\n",
       "      <td>Front</td>\n",
       "      <td>04-May</td>\n",
       "      <td>Left wheel</td>\n",
       "      <td>White</td>\n",
       "      <td>4</td>\n",
       "    </tr>\n",
       "  </tbody>\n",
       "</table>\n",
       "<p>313 rows × 18 columns</p>\n",
       "</div>"
      ],
      "text/plain": [
       "             ID  Price  Levy   Manufacturer        Model  Prod. year  \\\n",
       "425    45815372   7840     -  MERCEDES-BENZ        E 200        1998   \n",
       "1581   45815363   8781     -         TOYOTA          Ist        2002   \n",
       "1697   45732125  18503     -         TOYOTA        Prius        2010   \n",
       "1972   45507765  20385     -  MERCEDES-BENZ      CLS 500        2005   \n",
       "2131   45815363   8781     -         TOYOTA          Ist        2002   \n",
       "...         ...    ...   ...            ...          ...         ...   \n",
       "18974  45815465   2352  1273          LEXUS       IS 350        2015   \n",
       "19137  45810466  15125   642      CHEVROLET      Orlando        2012   \n",
       "19200  45725908  36065   640  MERCEDES-BENZ  CLA 250 AMG        2013   \n",
       "19203  45761487  13485   645         TOYOTA        Prius        2011   \n",
       "19210  45732939   8311   642        HYUNDAI       Sonata        2012   \n",
       "\n",
       "        Category Leather interior Fuel type Engine volume    Mileage  \\\n",
       "425        Sedan               No       CNG             2  180003 km   \n",
       "1581   Hatchback               No    Petrol           1.5  117000 km   \n",
       "1697       Sedan               No    Petrol           1.8  162000 km   \n",
       "1972       Sedan              Yes    Petrol             5  230000 km   \n",
       "2131   Hatchback               No    Petrol           1.5  117000 km   \n",
       "...          ...              ...       ...           ...        ...   \n",
       "18974      Sedan              Yes    Petrol           3.5   80856 km   \n",
       "19137       Jeep              Yes    Diesel             2  156834 km   \n",
       "19200      Sedan              Yes    Petrol     2.0 Turbo   68000 km   \n",
       "19203      Sedan               No    Hybrid           1.8  281600 km   \n",
       "19210      Sedan              Yes       LPG             2   36545 km   \n",
       "\n",
       "       Cylinders Gear box type Drive wheels   Doors             Wheel   Color  \\\n",
       "425          4.0        Manual         Rear  04-May        Left wheel   Black   \n",
       "1581         4.0     Automatic          4x4  04-May  Right-hand drive     Red   \n",
       "1697         4.0     Automatic        Front  04-May        Left wheel    Grey   \n",
       "1972         8.0     Tiptronic         Rear  04-May        Left wheel  Silver   \n",
       "2131         4.0     Automatic          4x4  04-May  Right-hand drive     Red   \n",
       "...          ...           ...          ...     ...               ...     ...   \n",
       "18974        6.0     Automatic          4x4  04-May        Left wheel   Black   \n",
       "19137        4.0     Automatic        Front  04-May        Left wheel  Golden   \n",
       "19200        4.0     Tiptronic        Front  04-May        Left wheel     Red   \n",
       "19203        6.0     Automatic        Front  04-May        Left wheel    Grey   \n",
       "19210        4.0     Automatic        Front  04-May        Left wheel   White   \n",
       "\n",
       "       Airbags  \n",
       "425          4  \n",
       "1581         4  \n",
       "1697        12  \n",
       "1972        10  \n",
       "2131         4  \n",
       "...        ...  \n",
       "18974       12  \n",
       "19137        4  \n",
       "19200       12  \n",
       "19203        8  \n",
       "19210        4  \n",
       "\n",
       "[313 rows x 18 columns]"
      ]
     },
     "execution_count": 11,
     "metadata": {},
     "output_type": "execute_result"
    }
   ],
   "source": [
    "# Are there any duplicates ?\n",
    "train_dups = df_train.duplicated()\n",
    "print('Number of duplicate rows in train set = %d' % (train_dups.sum()))\n",
    "df_train[train_dups]\n",
    "#test_dups = df_test.duplicated()\n",
    "#print('Number of duplicate rows in test set = %d' % (test_dups.sum()))\n",
    "#df_test[test_dups]"
   ]
  },
  {
   "cell_type": "code",
   "execution_count": 12,
   "metadata": {},
   "outputs": [],
   "source": [
    "df_train.drop_duplicates(keep = 'first', inplace = True)\n",
    "#df_test.drop_duplicates(keep = 'first', inplace = True)"
   ]
  },
  {
   "cell_type": "code",
   "execution_count": 13,
   "metadata": {},
   "outputs": [
    {
     "name": "stdout",
     "output_type": "stream",
     "text": [
      "Number of duplicate rows in train set = 0\n"
     ]
    },
    {
     "data": {
      "text/html": [
       "<div>\n",
       "<style scoped>\n",
       "    .dataframe tbody tr th:only-of-type {\n",
       "        vertical-align: middle;\n",
       "    }\n",
       "\n",
       "    .dataframe tbody tr th {\n",
       "        vertical-align: top;\n",
       "    }\n",
       "\n",
       "    .dataframe thead th {\n",
       "        text-align: right;\n",
       "    }\n",
       "</style>\n",
       "<table border=\"1\" class=\"dataframe\">\n",
       "  <thead>\n",
       "    <tr style=\"text-align: right;\">\n",
       "      <th></th>\n",
       "      <th>ID</th>\n",
       "      <th>Price</th>\n",
       "      <th>Levy</th>\n",
       "      <th>Manufacturer</th>\n",
       "      <th>Model</th>\n",
       "      <th>Prod. year</th>\n",
       "      <th>Category</th>\n",
       "      <th>Leather interior</th>\n",
       "      <th>Fuel type</th>\n",
       "      <th>Engine volume</th>\n",
       "      <th>Mileage</th>\n",
       "      <th>Cylinders</th>\n",
       "      <th>Gear box type</th>\n",
       "      <th>Drive wheels</th>\n",
       "      <th>Doors</th>\n",
       "      <th>Wheel</th>\n",
       "      <th>Color</th>\n",
       "      <th>Airbags</th>\n",
       "    </tr>\n",
       "  </thead>\n",
       "  <tbody>\n",
       "  </tbody>\n",
       "</table>\n",
       "</div>"
      ],
      "text/plain": [
       "Empty DataFrame\n",
       "Columns: [ID, Price, Levy, Manufacturer, Model, Prod. year, Category, Leather interior, Fuel type, Engine volume, Mileage, Cylinders, Gear box type, Drive wheels, Doors, Wheel, Color, Airbags]\n",
       "Index: []"
      ]
     },
     "execution_count": 13,
     "metadata": {},
     "output_type": "execute_result"
    }
   ],
   "source": [
    "# Are there any duplicates ?\n",
    "train_dups = df_train.duplicated()\n",
    "print('Number of duplicate rows in train set = %d' % (train_dups.sum()))\n",
    "df_train[train_dups]\n",
    "#test_dups = df_test.duplicated()\n",
    "#print('Number of duplicate rows in test set = %d' % (test_dups.sum()))\n",
    "#df_test[test_dups]"
   ]
  },
  {
   "cell_type": "code",
   "execution_count": 14,
   "metadata": {},
   "outputs": [
    {
     "data": {
      "text/plain": [
       "(18924, 18)"
      ]
     },
     "execution_count": 14,
     "metadata": {},
     "output_type": "execute_result"
    }
   ],
   "source": [
    "df_train.shape"
   ]
  },
  {
   "cell_type": "code",
   "execution_count": 15,
   "metadata": {},
   "outputs": [
    {
     "data": {
      "text/plain": [
       "(8245, 17)"
      ]
     },
     "execution_count": 15,
     "metadata": {},
     "output_type": "execute_result"
    }
   ],
   "source": [
    "df_test.shape"
   ]
  },
  {
   "cell_type": "markdown",
   "metadata": {
    "colab_type": "text",
    "id": "CGrDcXJBBxop"
   },
   "source": [
    "drop the id column as it is useless for the model"
   ]
  },
  {
   "cell_type": "code",
   "execution_count": 16,
   "metadata": {},
   "outputs": [],
   "source": [
    "df = pd.concat([df_train, df_test], axis=0)"
   ]
  },
  {
   "cell_type": "code",
   "execution_count": 17,
   "metadata": {},
   "outputs": [],
   "source": [
    "#df.columns = churn.columns.str.strip().str.replace(' ', '_').str.replace('(', '').str.replace(')', '').str.replace('%', 'perc').str.replace('/','_by_').str.replace('&','and').str.replace('[', '_').str.replace(']', '').str.replace('-', '_').str.replace('.', '')\n",
    "df.columns = df.columns.str.strip().str.replace('.', '').str.replace(' ','_')"
   ]
  },
  {
   "cell_type": "code",
   "execution_count": 18,
   "metadata": {},
   "outputs": [],
   "source": [
    "df[\"Prod_year\"]= pd.to_datetime(df[\"Prod_year\"],format='%Y')"
   ]
  },
  {
   "cell_type": "markdown",
   "metadata": {},
   "source": [
    "### Basic EDA"
   ]
  },
  {
   "cell_type": "code",
   "execution_count": 19,
   "metadata": {
    "ExecuteTime": {
     "end_time": "2021-06-29T11:08:39.368988Z",
     "start_time": "2021-06-29T11:08:39.361010Z"
    }
   },
   "outputs": [],
   "source": [
    "def basic_eda(df):\n",
    "    print('SHAPE')\n",
    "    print(df.shape)\n",
    "    print('.' * 100)\n",
    "    print('\\nINFO')\n",
    "    print(df.info())\n",
    "    print('.' * 100)\n",
    "    print('\\nMISSING VALUES')\n",
    "    print('Total Missing:', df.isna().sum().sum())\n",
    "    print(df.isna().sum().sort_values(ascending = False))\n",
    "    print('.' * 100)\n",
    "    print('\\nDUPLICATES')\n",
    "    print(df.duplicated().sum())\n",
    "    print('.' * 100)  \n",
    "    print('\\nDESCRIBE')\n",
    "    print(df.describe())\n",
    "    "
   ]
  },
  {
   "cell_type": "code",
   "execution_count": 20,
   "metadata": {
    "ExecuteTime": {
     "end_time": "2021-06-29T11:08:40.442698Z",
     "start_time": "2021-06-29T11:08:39.370982Z"
    }
   },
   "outputs": [
    {
     "name": "stdout",
     "output_type": "stream",
     "text": [
      "SHAPE\n",
      "(27169, 18)\n",
      "....................................................................................................\n",
      "\n",
      "INFO\n",
      "<class 'pandas.core.frame.DataFrame'>\n",
      "Int64Index: 27169 entries, 0 to 8244\n",
      "Data columns (total 18 columns):\n",
      " #   Column            Non-Null Count  Dtype         \n",
      "---  ------            --------------  -----         \n",
      " 0   ID                27169 non-null  int64         \n",
      " 1   Price             18924 non-null  float64       \n",
      " 2   Levy              27169 non-null  object        \n",
      " 3   Manufacturer      27169 non-null  object        \n",
      " 4   Model             27169 non-null  object        \n",
      " 5   Prod_year         27169 non-null  datetime64[ns]\n",
      " 6   Category          27169 non-null  object        \n",
      " 7   Leather_interior  27169 non-null  object        \n",
      " 8   Fuel_type         27169 non-null  object        \n",
      " 9   Engine_volume     27169 non-null  object        \n",
      " 10  Mileage           27169 non-null  object        \n",
      " 11  Cylinders         27169 non-null  float64       \n",
      " 12  Gear_box_type     27169 non-null  object        \n",
      " 13  Drive_wheels      27169 non-null  object        \n",
      " 14  Doors             27169 non-null  object        \n",
      " 15  Wheel             27169 non-null  object        \n",
      " 16  Color             27169 non-null  object        \n",
      " 17  Airbags           27169 non-null  int64         \n",
      "dtypes: datetime64[ns](1), float64(2), int64(2), object(13)\n",
      "memory usage: 3.9+ MB\n",
      "None\n",
      "....................................................................................................\n",
      "\n",
      "MISSING VALUES\n",
      "Total Missing: 8245\n",
      "Price               8245\n",
      "ID                     0\n",
      "Color                  0\n",
      "Wheel                  0\n",
      "Doors                  0\n",
      "Drive_wheels           0\n",
      "Gear_box_type          0\n",
      "Cylinders              0\n",
      "Mileage                0\n",
      "Engine_volume          0\n",
      "Fuel_type              0\n",
      "Leather_interior       0\n",
      "Category               0\n",
      "Prod_year              0\n",
      "Model                  0\n",
      "Manufacturer           0\n",
      "Levy                   0\n",
      "Airbags                0\n",
      "dtype: int64\n",
      "....................................................................................................\n",
      "\n",
      "DUPLICATES\n",
      "75\n",
      "....................................................................................................\n",
      "\n",
      "DESCRIBE\n",
      "                 ID         Price     Cylinders       Airbags\n",
      "count  2.716900e+04  1.892400e+04  27169.000000  27169.000000\n",
      "mean   4.557779e+07  1.858744e+04      4.591925      6.553425\n",
      "std    9.250332e+05  1.921356e+05      1.416381      4.330818\n",
      "min    2.074688e+07  1.000000e+00      1.000000      0.000000\n",
      "25%    4.569507e+07  5.331000e+03      4.000000      4.000000\n",
      "50%    4.577187e+07  1.317200e+04      4.000000      6.000000\n",
      "75%    4.580176e+07  2.206300e+04      4.000000     12.000000\n",
      "max    4.581665e+07  2.630750e+07    127.000000     16.000000\n"
     ]
    }
   ],
   "source": [
    "basic_eda(df)"
   ]
  },
  {
   "cell_type": "markdown",
   "metadata": {
    "colab_type": "text",
    "id": "IOSA-g9qBxof"
   },
   "source": [
    "\n",
    "#### Dropping \"id\" as it different for every row and will be a noise for while building models"
   ]
  },
  {
   "cell_type": "code",
   "execution_count": 21,
   "metadata": {
    "ExecuteTime": {
     "end_time": "2020-03-31T14:24:12.424333Z",
     "start_time": "2020-03-31T14:24:12.343352Z"
    },
    "colab": {
     "base_uri": "https://localhost:8080/",
     "height": 564
    },
    "colab_type": "code",
    "id": "-GefeUvCGTWH",
    "outputId": "b2f57df2-a3ee-4313-eff2-c6b75d02b05a"
   },
   "outputs": [
    {
     "data": {
      "text/plain": [
       "26886"
      ]
     },
     "execution_count": 21,
     "metadata": {},
     "output_type": "execute_result"
    }
   ],
   "source": [
    "df.ID.nunique()"
   ]
  },
  {
   "cell_type": "code",
   "execution_count": 22,
   "metadata": {},
   "outputs": [
    {
     "data": {
      "text/html": [
       "<div>\n",
       "<style scoped>\n",
       "    .dataframe tbody tr th:only-of-type {\n",
       "        vertical-align: middle;\n",
       "    }\n",
       "\n",
       "    .dataframe tbody tr th {\n",
       "        vertical-align: top;\n",
       "    }\n",
       "\n",
       "    .dataframe thead th {\n",
       "        text-align: right;\n",
       "    }\n",
       "</style>\n",
       "<table border=\"1\" class=\"dataframe\">\n",
       "  <thead>\n",
       "    <tr style=\"text-align: right;\">\n",
       "      <th></th>\n",
       "      <th>ID</th>\n",
       "      <th>Price</th>\n",
       "      <th>Levy</th>\n",
       "      <th>Manufacturer</th>\n",
       "      <th>Model</th>\n",
       "      <th>Prod_year</th>\n",
       "      <th>Category</th>\n",
       "      <th>Leather_interior</th>\n",
       "      <th>Fuel_type</th>\n",
       "      <th>Engine_volume</th>\n",
       "      <th>Mileage</th>\n",
       "      <th>Cylinders</th>\n",
       "      <th>Gear_box_type</th>\n",
       "      <th>Drive_wheels</th>\n",
       "      <th>Doors</th>\n",
       "      <th>Wheel</th>\n",
       "      <th>Color</th>\n",
       "      <th>Airbags</th>\n",
       "    </tr>\n",
       "  </thead>\n",
       "  <tbody>\n",
       "    <tr>\n",
       "      <th>0</th>\n",
       "      <td>45654403</td>\n",
       "      <td>13328.0</td>\n",
       "      <td>1399</td>\n",
       "      <td>LEXUS</td>\n",
       "      <td>RX 450</td>\n",
       "      <td>2010-01-01</td>\n",
       "      <td>Jeep</td>\n",
       "      <td>Yes</td>\n",
       "      <td>Hybrid</td>\n",
       "      <td>3.5</td>\n",
       "      <td>186005 km</td>\n",
       "      <td>6.0</td>\n",
       "      <td>Automatic</td>\n",
       "      <td>4x4</td>\n",
       "      <td>04-May</td>\n",
       "      <td>Left wheel</td>\n",
       "      <td>Silver</td>\n",
       "      <td>12</td>\n",
       "    </tr>\n",
       "    <tr>\n",
       "      <th>1</th>\n",
       "      <td>44731507</td>\n",
       "      <td>16621.0</td>\n",
       "      <td>1018</td>\n",
       "      <td>CHEVROLET</td>\n",
       "      <td>Equinox</td>\n",
       "      <td>2011-01-01</td>\n",
       "      <td>Jeep</td>\n",
       "      <td>No</td>\n",
       "      <td>Petrol</td>\n",
       "      <td>3</td>\n",
       "      <td>192000 km</td>\n",
       "      <td>6.0</td>\n",
       "      <td>Tiptronic</td>\n",
       "      <td>4x4</td>\n",
       "      <td>04-May</td>\n",
       "      <td>Left wheel</td>\n",
       "      <td>Black</td>\n",
       "      <td>8</td>\n",
       "    </tr>\n",
       "  </tbody>\n",
       "</table>\n",
       "</div>"
      ],
      "text/plain": [
       "         ID    Price  Levy Manufacturer    Model  Prod_year Category  \\\n",
       "0  45654403  13328.0  1399        LEXUS   RX 450 2010-01-01     Jeep   \n",
       "1  44731507  16621.0  1018    CHEVROLET  Equinox 2011-01-01     Jeep   \n",
       "\n",
       "  Leather_interior Fuel_type Engine_volume    Mileage  Cylinders  \\\n",
       "0              Yes    Hybrid           3.5  186005 km        6.0   \n",
       "1               No    Petrol             3  192000 km        6.0   \n",
       "\n",
       "  Gear_box_type Drive_wheels   Doors       Wheel   Color  Airbags  \n",
       "0     Automatic          4x4  04-May  Left wheel  Silver       12  \n",
       "1     Tiptronic          4x4  04-May  Left wheel   Black        8  "
      ]
     },
     "execution_count": 22,
     "metadata": {},
     "output_type": "execute_result"
    }
   ],
   "source": [
    "df.head(2)"
   ]
  },
  {
   "cell_type": "code",
   "execution_count": 23,
   "metadata": {
    "ExecuteTime": {
     "end_time": "2020-03-31T14:24:12.542866Z",
     "start_time": "2020-03-31T14:24:12.426364Z"
    },
    "colab": {},
    "colab_type": "code",
    "id": "FF-4Cye4-QrZ"
   },
   "outputs": [],
   "source": [
    "df = df.drop(['ID'], axis=1)"
   ]
  },
  {
   "cell_type": "code",
   "execution_count": 24,
   "metadata": {
    "ExecuteTime": {
     "end_time": "2020-03-31T14:24:12.637325Z",
     "start_time": "2020-03-31T14:24:12.544860Z"
    },
    "colab": {
     "base_uri": "https://localhost:8080/",
     "height": 200
    },
    "colab_type": "code",
    "id": "HLGQcIKM-Qrc",
    "outputId": "aa87fb32-6bf3-46b4-c9fb-088cc33f96ff"
   },
   "outputs": [
    {
     "data": {
      "text/html": [
       "<div>\n",
       "<style scoped>\n",
       "    .dataframe tbody tr th:only-of-type {\n",
       "        vertical-align: middle;\n",
       "    }\n",
       "\n",
       "    .dataframe tbody tr th {\n",
       "        vertical-align: top;\n",
       "    }\n",
       "\n",
       "    .dataframe thead th {\n",
       "        text-align: right;\n",
       "    }\n",
       "</style>\n",
       "<table border=\"1\" class=\"dataframe\">\n",
       "  <thead>\n",
       "    <tr style=\"text-align: right;\">\n",
       "      <th></th>\n",
       "      <th>Price</th>\n",
       "      <th>Levy</th>\n",
       "      <th>Manufacturer</th>\n",
       "      <th>Model</th>\n",
       "      <th>Prod_year</th>\n",
       "      <th>Category</th>\n",
       "      <th>Leather_interior</th>\n",
       "      <th>Fuel_type</th>\n",
       "      <th>Engine_volume</th>\n",
       "      <th>Mileage</th>\n",
       "      <th>Cylinders</th>\n",
       "      <th>Gear_box_type</th>\n",
       "      <th>Drive_wheels</th>\n",
       "      <th>Doors</th>\n",
       "      <th>Wheel</th>\n",
       "      <th>Color</th>\n",
       "      <th>Airbags</th>\n",
       "    </tr>\n",
       "  </thead>\n",
       "  <tbody>\n",
       "    <tr>\n",
       "      <th>0</th>\n",
       "      <td>13328.0</td>\n",
       "      <td>1399</td>\n",
       "      <td>LEXUS</td>\n",
       "      <td>RX 450</td>\n",
       "      <td>2010-01-01</td>\n",
       "      <td>Jeep</td>\n",
       "      <td>Yes</td>\n",
       "      <td>Hybrid</td>\n",
       "      <td>3.5</td>\n",
       "      <td>186005 km</td>\n",
       "      <td>6.0</td>\n",
       "      <td>Automatic</td>\n",
       "      <td>4x4</td>\n",
       "      <td>04-May</td>\n",
       "      <td>Left wheel</td>\n",
       "      <td>Silver</td>\n",
       "      <td>12</td>\n",
       "    </tr>\n",
       "    <tr>\n",
       "      <th>1</th>\n",
       "      <td>16621.0</td>\n",
       "      <td>1018</td>\n",
       "      <td>CHEVROLET</td>\n",
       "      <td>Equinox</td>\n",
       "      <td>2011-01-01</td>\n",
       "      <td>Jeep</td>\n",
       "      <td>No</td>\n",
       "      <td>Petrol</td>\n",
       "      <td>3</td>\n",
       "      <td>192000 km</td>\n",
       "      <td>6.0</td>\n",
       "      <td>Tiptronic</td>\n",
       "      <td>4x4</td>\n",
       "      <td>04-May</td>\n",
       "      <td>Left wheel</td>\n",
       "      <td>Black</td>\n",
       "      <td>8</td>\n",
       "    </tr>\n",
       "  </tbody>\n",
       "</table>\n",
       "</div>"
      ],
      "text/plain": [
       "     Price  Levy Manufacturer    Model  Prod_year Category Leather_interior  \\\n",
       "0  13328.0  1399        LEXUS   RX 450 2010-01-01     Jeep              Yes   \n",
       "1  16621.0  1018    CHEVROLET  Equinox 2011-01-01     Jeep               No   \n",
       "\n",
       "  Fuel_type Engine_volume    Mileage  Cylinders Gear_box_type Drive_wheels  \\\n",
       "0    Hybrid           3.5  186005 km        6.0     Automatic          4x4   \n",
       "1    Petrol             3  192000 km        6.0     Tiptronic          4x4   \n",
       "\n",
       "    Doors       Wheel   Color  Airbags  \n",
       "0  04-May  Left wheel  Silver       12  \n",
       "1  04-May  Left wheel   Black        8  "
      ]
     },
     "execution_count": 24,
     "metadata": {},
     "output_type": "execute_result"
    }
   ],
   "source": [
    "df.head(2)"
   ]
  },
  {
   "cell_type": "markdown",
   "metadata": {},
   "source": [
    "#### Copy"
   ]
  },
  {
   "cell_type": "code",
   "execution_count": 25,
   "metadata": {},
   "outputs": [],
   "source": [
    "cars = df.copy()"
   ]
  },
  {
   "cell_type": "markdown",
   "metadata": {},
   "source": [
    "#### Analysis"
   ]
  },
  {
   "cell_type": "code",
   "execution_count": 26,
   "metadata": {},
   "outputs": [
    {
     "data": {
      "text/plain": [
       "(27169, 17)"
      ]
     },
     "execution_count": 26,
     "metadata": {},
     "output_type": "execute_result"
    }
   ],
   "source": [
    "cars.shape"
   ]
  },
  {
   "cell_type": "code",
   "execution_count": 27,
   "metadata": {},
   "outputs": [
    {
     "data": {
      "text/html": [
       "<div>\n",
       "<style scoped>\n",
       "    .dataframe tbody tr th:only-of-type {\n",
       "        vertical-align: middle;\n",
       "    }\n",
       "\n",
       "    .dataframe tbody tr th {\n",
       "        vertical-align: top;\n",
       "    }\n",
       "\n",
       "    .dataframe thead th {\n",
       "        text-align: right;\n",
       "    }\n",
       "</style>\n",
       "<table border=\"1\" class=\"dataframe\">\n",
       "  <thead>\n",
       "    <tr style=\"text-align: right;\">\n",
       "      <th></th>\n",
       "      <th>Price</th>\n",
       "      <th>Levy</th>\n",
       "      <th>Manufacturer</th>\n",
       "      <th>Model</th>\n",
       "      <th>Prod_year</th>\n",
       "      <th>Category</th>\n",
       "      <th>Leather_interior</th>\n",
       "      <th>Fuel_type</th>\n",
       "      <th>Engine_volume</th>\n",
       "      <th>Mileage</th>\n",
       "      <th>Cylinders</th>\n",
       "      <th>Gear_box_type</th>\n",
       "      <th>Drive_wheels</th>\n",
       "      <th>Doors</th>\n",
       "      <th>Wheel</th>\n",
       "      <th>Color</th>\n",
       "      <th>Airbags</th>\n",
       "    </tr>\n",
       "  </thead>\n",
       "  <tbody>\n",
       "    <tr>\n",
       "      <th>0</th>\n",
       "      <td>13328.0</td>\n",
       "      <td>1399</td>\n",
       "      <td>LEXUS</td>\n",
       "      <td>RX 450</td>\n",
       "      <td>2010-01-01</td>\n",
       "      <td>Jeep</td>\n",
       "      <td>Yes</td>\n",
       "      <td>Hybrid</td>\n",
       "      <td>3.5</td>\n",
       "      <td>186005 km</td>\n",
       "      <td>6.0</td>\n",
       "      <td>Automatic</td>\n",
       "      <td>4x4</td>\n",
       "      <td>04-May</td>\n",
       "      <td>Left wheel</td>\n",
       "      <td>Silver</td>\n",
       "      <td>12</td>\n",
       "    </tr>\n",
       "    <tr>\n",
       "      <th>1</th>\n",
       "      <td>16621.0</td>\n",
       "      <td>1018</td>\n",
       "      <td>CHEVROLET</td>\n",
       "      <td>Equinox</td>\n",
       "      <td>2011-01-01</td>\n",
       "      <td>Jeep</td>\n",
       "      <td>No</td>\n",
       "      <td>Petrol</td>\n",
       "      <td>3</td>\n",
       "      <td>192000 km</td>\n",
       "      <td>6.0</td>\n",
       "      <td>Tiptronic</td>\n",
       "      <td>4x4</td>\n",
       "      <td>04-May</td>\n",
       "      <td>Left wheel</td>\n",
       "      <td>Black</td>\n",
       "      <td>8</td>\n",
       "    </tr>\n",
       "  </tbody>\n",
       "</table>\n",
       "</div>"
      ],
      "text/plain": [
       "     Price  Levy Manufacturer    Model  Prod_year Category Leather_interior  \\\n",
       "0  13328.0  1399        LEXUS   RX 450 2010-01-01     Jeep              Yes   \n",
       "1  16621.0  1018    CHEVROLET  Equinox 2011-01-01     Jeep               No   \n",
       "\n",
       "  Fuel_type Engine_volume    Mileage  Cylinders Gear_box_type Drive_wheels  \\\n",
       "0    Hybrid           3.5  186005 km        6.0     Automatic          4x4   \n",
       "1    Petrol             3  192000 km        6.0     Tiptronic          4x4   \n",
       "\n",
       "    Doors       Wheel   Color  Airbags  \n",
       "0  04-May  Left wheel  Silver       12  \n",
       "1  04-May  Left wheel   Black        8  "
      ]
     },
     "execution_count": 27,
     "metadata": {},
     "output_type": "execute_result"
    }
   ],
   "source": [
    "cars.head(2)"
   ]
  },
  {
   "cell_type": "markdown",
   "metadata": {
    "colab_type": "text",
    "id": "ohIfrcmlBxqe"
   },
   "source": [
    "#### Data Cleaning"
   ]
  },
  {
   "cell_type": "code",
   "execution_count": 28,
   "metadata": {
    "ExecuteTime": {
     "end_time": "2020-03-31T14:24:14.377635Z",
     "start_time": "2020-03-31T14:24:14.305606Z"
    },
    "colab": {},
    "colab_type": "code",
    "id": "q_0oMSn3GTW2"
   },
   "outputs": [],
   "source": [
    "cars['Levy'].replace(to_replace=['-'], value=0, inplace=True)"
   ]
  },
  {
   "cell_type": "code",
   "execution_count": 29,
   "metadata": {},
   "outputs": [],
   "source": [
    "cars['Mileage'] = cars['Mileage'].str.strip().str.replace('km', '')"
   ]
  },
  {
   "cell_type": "code",
   "execution_count": 30,
   "metadata": {},
   "outputs": [],
   "source": [
    "cars['Mileage'].replace(to_replace=['0 '], value=np.nan, inplace=True)"
   ]
  },
  {
   "cell_type": "code",
   "execution_count": 31,
   "metadata": {},
   "outputs": [],
   "source": [
    "cars['Doors'] = cars['Doors'].str.strip().str.replace('04-May', '4')\n",
    "cars['Doors'] = cars['Doors'].str.strip().str.replace('02-Mar', '2')"
   ]
  },
  {
   "cell_type": "code",
   "execution_count": 32,
   "metadata": {},
   "outputs": [],
   "source": [
    "cars['Model'] = cars['Model'].str.strip().str.replace('09-03-2021', 'SAAB Model')"
   ]
  },
  {
   "cell_type": "markdown",
   "metadata": {},
   "source": [
    "### Changing the data types of the features "
   ]
  },
  {
   "cell_type": "code",
   "execution_count": 33,
   "metadata": {},
   "outputs": [],
   "source": [
    "cars['Levy'] = cars['Levy'].astype(float)\n",
    "cars['Mileage'] = cars['Mileage'].astype(float)\n",
    "cars['Engine_volume']=cars['Engine_volume'].astype(str)"
   ]
  },
  {
   "cell_type": "markdown",
   "metadata": {},
   "source": [
    "### Feature Engineering"
   ]
  },
  {
   "cell_type": "code",
   "execution_count": 34,
   "metadata": {},
   "outputs": [],
   "source": [
    "def english_words_keeper(model_data):\n",
    "    md_ = regex.sub('[^a-zA-Z0-9]',' ',model_data)\n",
    "    return md_\n",
    "\n",
    "cars['Model'] = cars['Model'].apply(english_words_keeper,1)\n",
    "cars['Manufacturer'] = cars['Manufacturer'].apply(english_words_keeper,1)"
   ]
  },
  {
   "cell_type": "code",
   "execution_count": 35,
   "metadata": {},
   "outputs": [],
   "source": [
    "# Extracts only numeric value for column Engine volume\n",
    "\n",
    "cars[[\"Engine_volume\", \"Turbo\"]] = cars[\"Engine_volume\"].str.split(expand=True)\n",
    "cars[\"Engine_volume\"] = cars[\"Engine_volume\"].astype(\"float\")\n",
    "\n",
    "# Keeps the information whether the engine is Turbo charged or not\n",
    "\n",
    "cars[\"Turbo\"].fillna(\"no\", inplace=True)\n",
    "cars[\"Turbo\"].replace(\"Turbo\", \"yes\", inplace=True)"
   ]
  },
  {
   "cell_type": "code",
   "execution_count": 36,
   "metadata": {},
   "outputs": [],
   "source": [
    "#creating Engine type column\n",
    "#cars['Engine_Type']=['Non-turbo' if len(i)==1 else 'Turbo' for i in cars['Engine_volume'].str.split()]"
   ]
  },
  {
   "cell_type": "markdown",
   "metadata": {},
   "source": [
    "#### Feature Engineering"
   ]
  },
  {
   "cell_type": "code",
   "execution_count": 37,
   "metadata": {},
   "outputs": [],
   "source": [
    "cars['Leather_interior'] = cars['Leather_interior'].map({'Yes':1,'No':0})\n",
    "cars['Turbo'] = cars['Turbo'].map({'yes':1,'no':0})"
   ]
  },
  {
   "cell_type": "code",
   "execution_count": 38,
   "metadata": {},
   "outputs": [],
   "source": [
    "cars['Levy'] = cars['Levy'].replace('-',np.nan).astype(float) # check\n",
    "cars['Levy'] = cars['Levy'].fillna(cars['Levy'].median())"
   ]
  },
  {
   "cell_type": "code",
   "execution_count": 39,
   "metadata": {},
   "outputs": [],
   "source": [
    "cars['Car_Age'] = 2021 - cars['Prod_year'].dt.year"
   ]
  },
  {
   "cell_type": "code",
   "execution_count": 40,
   "metadata": {},
   "outputs": [
    {
     "data": {
      "text/plain": [
       "0       11\n",
       "1       10\n",
       "2       15\n",
       "3       10\n",
       "4        7\n",
       "        ..\n",
       "8240    17\n",
       "8241     9\n",
       "8242     6\n",
       "8243     4\n",
       "8244     9\n",
       "Name: Car_Age, Length: 27169, dtype: int64"
      ]
     },
     "execution_count": 40,
     "metadata": {},
     "output_type": "execute_result"
    }
   ],
   "source": [
    "cars['Car_Age']"
   ]
  },
  {
   "cell_type": "code",
   "execution_count": 41,
   "metadata": {},
   "outputs": [],
   "source": [
    "#dropping production collumn\n",
    "cars=cars.drop(['Prod_year'],axis=1)"
   ]
  },
  {
   "cell_type": "markdown",
   "metadata": {},
   "source": [
    "### Imputation"
   ]
  },
  {
   "cell_type": "code",
   "execution_count": 42,
   "metadata": {},
   "outputs": [
    {
     "data": {
      "text/plain": [
       "Price               8245\n",
       "Levy                   0\n",
       "Manufacturer           0\n",
       "Model                  0\n",
       "Category               0\n",
       "Leather_interior       0\n",
       "Fuel_type              0\n",
       "Engine_volume          0\n",
       "Mileage             1006\n",
       "Cylinders              0\n",
       "Gear_box_type          0\n",
       "Drive_wheels           0\n",
       "Doors                  0\n",
       "Wheel                  0\n",
       "Color                  0\n",
       "Airbags                0\n",
       "Turbo                  0\n",
       "Car_Age                0\n",
       "dtype: int64"
      ]
     },
     "execution_count": 42,
     "metadata": {},
     "output_type": "execute_result"
    }
   ],
   "source": [
    "cars.isna().sum()"
   ]
  },
  {
   "cell_type": "code",
   "execution_count": 43,
   "metadata": {},
   "outputs": [],
   "source": [
    "cars['Mileage'].fillna(value = cars['Mileage'].median(), inplace = True)"
   ]
  },
  {
   "cell_type": "code",
   "execution_count": 44,
   "metadata": {},
   "outputs": [
    {
     "data": {
      "text/plain": [
       "Price               8245\n",
       "Levy                   0\n",
       "Manufacturer           0\n",
       "Model                  0\n",
       "Category               0\n",
       "Leather_interior       0\n",
       "Fuel_type              0\n",
       "Engine_volume          0\n",
       "Mileage                0\n",
       "Cylinders              0\n",
       "Gear_box_type          0\n",
       "Drive_wheels           0\n",
       "Doors                  0\n",
       "Wheel                  0\n",
       "Color                  0\n",
       "Airbags                0\n",
       "Turbo                  0\n",
       "Car_Age                0\n",
       "dtype: int64"
      ]
     },
     "execution_count": 44,
     "metadata": {},
     "output_type": "execute_result"
    }
   ],
   "source": [
    "cars.isna().sum()"
   ]
  },
  {
   "cell_type": "markdown",
   "metadata": {},
   "source": [
    "### Seperating out numerical and categorical features"
   ]
  },
  {
   "cell_type": "code",
   "execution_count": 45,
   "metadata": {},
   "outputs": [],
   "source": [
    "df_num = cars.select_dtypes(include = 'number')\n",
    "df_cat = cars.select_dtypes(exclude = 'number')"
   ]
  },
  {
   "cell_type": "code",
   "execution_count": 46,
   "metadata": {},
   "outputs": [
    {
     "data": {
      "text/html": [
       "<div>\n",
       "<style scoped>\n",
       "    .dataframe tbody tr th:only-of-type {\n",
       "        vertical-align: middle;\n",
       "    }\n",
       "\n",
       "    .dataframe tbody tr th {\n",
       "        vertical-align: top;\n",
       "    }\n",
       "\n",
       "    .dataframe thead th {\n",
       "        text-align: right;\n",
       "    }\n",
       "</style>\n",
       "<table border=\"1\" class=\"dataframe\">\n",
       "  <thead>\n",
       "    <tr style=\"text-align: right;\">\n",
       "      <th></th>\n",
       "      <th>Price</th>\n",
       "      <th>Levy</th>\n",
       "      <th>Leather_interior</th>\n",
       "      <th>Engine_volume</th>\n",
       "      <th>Mileage</th>\n",
       "      <th>Cylinders</th>\n",
       "      <th>Airbags</th>\n",
       "      <th>Turbo</th>\n",
       "      <th>Car_Age</th>\n",
       "    </tr>\n",
       "  </thead>\n",
       "  <tbody>\n",
       "    <tr>\n",
       "      <th>0</th>\n",
       "      <td>13328.0</td>\n",
       "      <td>1399.0</td>\n",
       "      <td>1</td>\n",
       "      <td>3.5</td>\n",
       "      <td>186005.0</td>\n",
       "      <td>6.0</td>\n",
       "      <td>12</td>\n",
       "      <td>0</td>\n",
       "      <td>11</td>\n",
       "    </tr>\n",
       "    <tr>\n",
       "      <th>1</th>\n",
       "      <td>16621.0</td>\n",
       "      <td>1018.0</td>\n",
       "      <td>0</td>\n",
       "      <td>3.0</td>\n",
       "      <td>192000.0</td>\n",
       "      <td>6.0</td>\n",
       "      <td>8</td>\n",
       "      <td>0</td>\n",
       "      <td>10</td>\n",
       "    </tr>\n",
       "  </tbody>\n",
       "</table>\n",
       "</div>"
      ],
      "text/plain": [
       "     Price    Levy  Leather_interior  Engine_volume   Mileage  Cylinders  \\\n",
       "0  13328.0  1399.0                 1            3.5  186005.0        6.0   \n",
       "1  16621.0  1018.0                 0            3.0  192000.0        6.0   \n",
       "\n",
       "   Airbags  Turbo  Car_Age  \n",
       "0       12      0       11  \n",
       "1        8      0       10  "
      ]
     },
     "execution_count": 46,
     "metadata": {},
     "output_type": "execute_result"
    }
   ],
   "source": [
    "df_num.head(2)"
   ]
  },
  {
   "cell_type": "code",
   "execution_count": 47,
   "metadata": {},
   "outputs": [
    {
     "data": {
      "text/html": [
       "<div>\n",
       "<style scoped>\n",
       "    .dataframe tbody tr th:only-of-type {\n",
       "        vertical-align: middle;\n",
       "    }\n",
       "\n",
       "    .dataframe tbody tr th {\n",
       "        vertical-align: top;\n",
       "    }\n",
       "\n",
       "    .dataframe thead th {\n",
       "        text-align: right;\n",
       "    }\n",
       "</style>\n",
       "<table border=\"1\" class=\"dataframe\">\n",
       "  <thead>\n",
       "    <tr style=\"text-align: right;\">\n",
       "      <th></th>\n",
       "      <th>Manufacturer</th>\n",
       "      <th>Model</th>\n",
       "      <th>Category</th>\n",
       "      <th>Fuel_type</th>\n",
       "      <th>Gear_box_type</th>\n",
       "      <th>Drive_wheels</th>\n",
       "      <th>Doors</th>\n",
       "      <th>Wheel</th>\n",
       "      <th>Color</th>\n",
       "    </tr>\n",
       "  </thead>\n",
       "  <tbody>\n",
       "    <tr>\n",
       "      <th>0</th>\n",
       "      <td>LEXUS</td>\n",
       "      <td>RX 450</td>\n",
       "      <td>Jeep</td>\n",
       "      <td>Hybrid</td>\n",
       "      <td>Automatic</td>\n",
       "      <td>4x4</td>\n",
       "      <td>4</td>\n",
       "      <td>Left wheel</td>\n",
       "      <td>Silver</td>\n",
       "    </tr>\n",
       "    <tr>\n",
       "      <th>1</th>\n",
       "      <td>CHEVROLET</td>\n",
       "      <td>Equinox</td>\n",
       "      <td>Jeep</td>\n",
       "      <td>Petrol</td>\n",
       "      <td>Tiptronic</td>\n",
       "      <td>4x4</td>\n",
       "      <td>4</td>\n",
       "      <td>Left wheel</td>\n",
       "      <td>Black</td>\n",
       "    </tr>\n",
       "  </tbody>\n",
       "</table>\n",
       "</div>"
      ],
      "text/plain": [
       "  Manufacturer    Model Category Fuel_type Gear_box_type Drive_wheels Doors  \\\n",
       "0        LEXUS   RX 450     Jeep    Hybrid     Automatic          4x4     4   \n",
       "1    CHEVROLET  Equinox     Jeep    Petrol     Tiptronic          4x4     4   \n",
       "\n",
       "        Wheel   Color  \n",
       "0  Left wheel  Silver  \n",
       "1  Left wheel   Black  "
      ]
     },
     "execution_count": 47,
     "metadata": {},
     "output_type": "execute_result"
    }
   ],
   "source": [
    "df_cat.head(2)"
   ]
  },
  {
   "cell_type": "markdown",
   "metadata": {},
   "source": [
    "#### Numerical Corr"
   ]
  },
  {
   "cell_type": "code",
   "execution_count": 48,
   "metadata": {},
   "outputs": [
    {
     "data": {
      "image/png": "[encoded data removed]",
      "text/plain": [
       "<Figure size 2160x720 with 2 Axes>"
      ]
     },
     "metadata": {
      "needs_background": "light"
     },
     "output_type": "display_data"
    }
   ],
   "source": [
    "plt.figure(figsize = (30,10))\n",
    "sns.heatmap(cars.corr(method='kendall'),cmap='coolwarm',annot=True);"
   ]
  },
  {
   "cell_type": "markdown",
   "metadata": {},
   "source": [
    "#### Chi-2 Corr"
   ]
  },
  {
   "cell_type": "code",
   "execution_count": 49,
   "metadata": {},
   "outputs": [],
   "source": [
    "df_cat = cars.select_dtypes(include='object')"
   ]
  },
  {
   "cell_type": "code",
   "execution_count": 50,
   "metadata": {},
   "outputs": [],
   "source": [
    "def cramers_V(var1,var2) :\n",
    "    crosstab =np.array(pd.crosstab(var1,var2, rownames=None, colnames=None)) # Cross table building\n",
    "    stat = chi2_contingency(crosstab)[0] # Keeping of the test statistic of the Chi2 test\n",
    "    obs = np.sum(crosstab) # Number of observations\n",
    "    mini = min(crosstab.shape)-1 # Take the minimum value between the columns and the rows of the cross table\n",
    "    return np.sqrt((stat/(obs*mini)))"
   ]
  },
  {
   "cell_type": "code",
   "execution_count": 51,
   "metadata": {},
   "outputs": [],
   "source": [
    "rows= []\n",
    "\n",
    "for var1 in df_cat:\n",
    "    col = []\n",
    "    for var2 in df_cat :\n",
    "        cramers = cramers_V(df_cat[var1], df_cat[var2]) # Cramer's V test\n",
    "        col.append(cramers) \n",
    "    rows.append(col)\n",
    "\n",
    "cramers_results = np.array(rows)\n",
    "    \n",
    "df_categorical_corr_vars = pd.DataFrame(cramers_results, columns = df_cat.columns, index =df_cat.columns)"
   ]
  },
  {
   "cell_type": "code",
   "execution_count": 52,
   "metadata": {
    "scrolled": false
   },
   "outputs": [
    {
     "data": {
      "image/png": "[encoded data removed]",
      "text/plain": [
       "<Figure size 2160x720 with 2 Axes>"
      ]
     },
     "metadata": {
      "needs_background": "light"
     },
     "output_type": "display_data"
    }
   ],
   "source": [
    "plt.figure(figsize = (30,10))\n",
    "sns.heatmap(df_categorical_corr_vars,annot=True,cmap='coolwarm');"
   ]
  },
  {
   "cell_type": "markdown",
   "metadata": {},
   "source": [
    "#### Feature selection on the basis pf Corr and Chi-2 results"
   ]
  },
  {
   "cell_type": "code",
   "execution_count": 53,
   "metadata": {},
   "outputs": [],
   "source": [
    "# #fe_remove_cols = ['Current_Year','Prod_year','Model'] # 'Cylinders' can be droppped but lets check \n",
    "# #cars = cars.drop(columns=fe_remove_cols)\n",
    "\n",
    "# #selecting features other than 'Current_Year','Prod_year','Model'\n",
    "# cars = cars[['Price', 'Levy', 'Leather_interior', 'Engine_volume', 'Mileage',\n",
    "#        'Cylinders', 'Airbags', 'Turbo', 'Car_Age','Manufacturer', 'Model', 'Category', 'Fuel_type', 'Gear_box_type',\n",
    "#        'Drive_wheels', 'Wheel', 'Color']]"
   ]
  },
  {
   "cell_type": "markdown",
   "metadata": {},
   "source": [
    "**Check for Outliers**"
   ]
  },
  {
   "cell_type": "code",
   "execution_count": 54,
   "metadata": {
    "ExecuteTime": {
     "end_time": "2020-04-29T03:48:04.093577Z",
     "start_time": "2020-04-29T03:48:02.765100Z"
    }
   },
   "outputs": [
    {
     "data": {
      "text/plain": [
       "<matplotlib.axes._subplots.AxesSubplot at 0x27860ce5188>"
      ]
     },
     "execution_count": 54,
     "metadata": {},
     "output_type": "execute_result"
    },
    {
     "data": {
      "text/plain": [
       "<matplotlib.axes._subplots.AxesSubplot at 0x27860cdc648>"
      ]
     },
     "execution_count": 54,
     "metadata": {},
     "output_type": "execute_result"
    },
    {
     "data": {
      "text/plain": [
       "<matplotlib.axes._subplots.AxesSubplot at 0x2785fb15088>"
      ]
     },
     "execution_count": 54,
     "metadata": {},
     "output_type": "execute_result"
    },
    {
     "data": {
      "text/plain": [
       "<matplotlib.axes._subplots.AxesSubplot at 0x27860c16408>"
      ]
     },
     "execution_count": 54,
     "metadata": {},
     "output_type": "execute_result"
    },
    {
     "data": {
      "text/plain": [
       "<matplotlib.axes._subplots.AxesSubplot at 0x27861073608>"
      ]
     },
     "execution_count": 54,
     "metadata": {},
     "output_type": "execute_result"
    },
    {
     "data": {
      "text/plain": [
       "<matplotlib.axes._subplots.AxesSubplot at 0x27860c1f588>"
      ]
     },
     "execution_count": 54,
     "metadata": {},
     "output_type": "execute_result"
    },
    {
     "name": "stdout",
     "output_type": "stream",
     "text": [
      "Shape before Outliers Treatment (27169, 18)\n"
     ]
    },
    {
     "data": {
      "image/png": "[encoded data removed]",
      "text/plain": [
       "<Figure size 1440x1440 with 6 Axes>"
      ]
     },
     "metadata": {
      "needs_background": "light"
     },
     "output_type": "display_data"
    }
   ],
   "source": [
    "data_plot=cars[['Levy', 'Engine_volume', 'Mileage','Cylinders', 'Airbags', 'Car_Age']]\n",
    "fig=plt.figure(figsize=(20,20))\n",
    "for i in range(0,len(data_plot.columns)):\n",
    "    ax=fig.add_subplot(3,2,i+1)\n",
    "    sns.boxplot(data_plot[data_plot.columns[i]])\n",
    "    plt.tight_layout()\n",
    "print('Shape before Outliers Treatment',cars.shape)"
   ]
  },
  {
   "cell_type": "markdown",
   "metadata": {},
   "source": [
    "**Outliers Treatment**"
   ]
  },
  {
   "cell_type": "code",
   "execution_count": 55,
   "metadata": {
    "ExecuteTime": {
     "end_time": "2020-04-29T03:48:04.566766Z",
     "start_time": "2020-04-29T03:48:04.555017Z"
    }
   },
   "outputs": [],
   "source": [
    "Q1 = cars.quantile(0.25) # Getting First quantile for all numerical variables\n",
    "Q3 = cars.quantile(0.75) # Getting Second quantile for all numerical variables\n",
    "IQR = Q3 - Q1          # Getting IQR values\n",
    "lower_range= Q1-(1.5 * IQR) #Getting Lower Limit for all numerical variables\n",
    "upper_range= Q3+(1.5 * IQR) #Getting Upper Limit for all numerical variables"
   ]
  },
  {
   "cell_type": "code",
   "execution_count": 56,
   "metadata": {
    "ExecuteTime": {
     "end_time": "2020-04-29T03:48:05.176874Z",
     "start_time": "2020-04-29T03:48:05.165985Z"
    }
   },
   "outputs": [
    {
     "data": {
      "text/plain": [
       "Price              -19767.00\n",
       "Levy                -1375.50\n",
       "Leather_interior       -1.50\n",
       "Engine_volume           0.75\n",
       "Mileage            -85000.00\n",
       "Cylinders               4.00\n",
       "Airbags                -8.00\n",
       "Turbo                   0.00\n",
       "Car_Age                -3.00\n",
       "dtype: float64"
      ]
     },
     "execution_count": 56,
     "metadata": {},
     "output_type": "execute_result"
    }
   ],
   "source": [
    "lower_range"
   ]
  },
  {
   "cell_type": "code",
   "execution_count": 57,
   "metadata": {
    "ExecuteTime": {
     "end_time": "2020-04-29T03:48:05.745846Z",
     "start_time": "2020-04-29T03:48:05.739532Z"
    }
   },
   "outputs": [
    {
     "data": {
      "text/plain": [
       "Price                47161.00\n",
       "Levy                  2292.50\n",
       "Leather_interior         2.50\n",
       "Engine_volume            3.55\n",
       "Mileage             355000.00\n",
       "Cylinders                4.00\n",
       "Airbags                 24.00\n",
       "Turbo                    0.00\n",
       "Car_Age                 21.00\n",
       "dtype: float64"
      ]
     },
     "execution_count": 57,
     "metadata": {},
     "output_type": "execute_result"
    }
   ],
   "source": [
    "upper_range"
   ]
  },
  {
   "cell_type": "code",
   "execution_count": 58,
   "metadata": {
    "ExecuteTime": {
     "end_time": "2020-04-29T03:48:06.406018Z",
     "start_time": "2020-04-29T03:48:06.387356Z"
    }
   },
   "outputs": [],
   "source": [
    "cars['Levy']=np.where(cars['Levy']> 2292.50,2292.50,cars['Levy'])\n",
    "\n",
    "cars['Engine_volume']=np.where(cars['Engine_volume']< 0.75,0.75,cars['Engine_volume'])\n",
    "cars['Engine_volume']=np.where(cars['Engine_volume']> 3.55,3.55,cars['Engine_volume'])\n",
    "\n",
    "cars['Car_Age']=np.where(cars['Car_Age']> 21,21,cars['Car_Age'])"
   ]
  },
  {
   "cell_type": "code",
   "execution_count": 59,
   "metadata": {
    "ExecuteTime": {
     "end_time": "2020-04-29T03:48:08.203927Z",
     "start_time": "2020-04-29T03:48:07.050942Z"
    }
   },
   "outputs": [
    {
     "data": {
      "text/plain": [
       "<matplotlib.axes._subplots.AxesSubplot at 0x2786045eb48>"
      ]
     },
     "execution_count": 59,
     "metadata": {},
     "output_type": "execute_result"
    },
    {
     "data": {
      "text/plain": [
       "<matplotlib.axes._subplots.AxesSubplot at 0x27860d14f88>"
      ]
     },
     "execution_count": 59,
     "metadata": {},
     "output_type": "execute_result"
    },
    {
     "data": {
      "text/plain": [
       "<matplotlib.axes._subplots.AxesSubplot at 0x27860cfd908>"
      ]
     },
     "execution_count": 59,
     "metadata": {},
     "output_type": "execute_result"
    },
    {
     "data": {
      "text/plain": [
       "<matplotlib.axes._subplots.AxesSubplot at 0x27860cfda08>"
      ]
     },
     "execution_count": 59,
     "metadata": {},
     "output_type": "execute_result"
    },
    {
     "data": {
      "text/plain": [
       "<matplotlib.axes._subplots.AxesSubplot at 0x27860ff5c08>"
      ]
     },
     "execution_count": 59,
     "metadata": {},
     "output_type": "execute_result"
    },
    {
     "data": {
      "text/plain": [
       "<matplotlib.axes._subplots.AxesSubplot at 0x27860bf9408>"
      ]
     },
     "execution_count": 59,
     "metadata": {},
     "output_type": "execute_result"
    },
    {
     "name": "stdout",
     "output_type": "stream",
     "text": [
      "Shape After Outliers Treatment (27169, 18)\n"
     ]
    },
    {
     "data": {
      "image/png": "[encoded data removed]",
      "text/plain": [
       "<Figure size 1440x1440 with 6 Axes>"
      ]
     },
     "metadata": {
      "needs_background": "light"
     },
     "output_type": "display_data"
    }
   ],
   "source": [
    "data_plot=cars[['Levy', 'Engine_volume', 'Mileage','Cylinders', 'Airbags', 'Car_Age']]\n",
    "fig=plt.figure(figsize=(20,20))\n",
    "for i in range(0,len(data_plot.columns)):\n",
    "    ax=fig.add_subplot(3,2,i+1)\n",
    "    sns.boxplot(data_plot[data_plot.columns[i]])\n",
    "    plt.tight_layout()\n",
    "\n",
    "print('Shape After Outliers Treatment',cars.shape)"
   ]
  },
  {
   "cell_type": "markdown",
   "metadata": {},
   "source": [
    "### Seperating Train and Test sets to the original values"
   ]
  },
  {
   "cell_type": "code",
   "execution_count": 60,
   "metadata": {},
   "outputs": [],
   "source": [
    "df_train = cars[0:18924]"
   ]
  },
  {
   "cell_type": "code",
   "execution_count": 61,
   "metadata": {},
   "outputs": [],
   "source": [
    "df_test = cars[18924:]"
   ]
  },
  {
   "cell_type": "code",
   "execution_count": 62,
   "metadata": {},
   "outputs": [],
   "source": [
    "df_test = df_test.drop(['Price'], axis =1)"
   ]
  },
  {
   "cell_type": "code",
   "execution_count": 63,
   "metadata": {},
   "outputs": [
    {
     "data": {
      "text/plain": [
       "(8245, 17)"
      ]
     },
     "execution_count": 63,
     "metadata": {},
     "output_type": "execute_result"
    }
   ],
   "source": [
    "df_test.shape"
   ]
  },
  {
   "cell_type": "markdown",
   "metadata": {},
   "source": [
    "### BaseLine Approach"
   ]
  },
  {
   "cell_type": "markdown",
   "metadata": {},
   "source": [
    "#### Independent | Dependent Vars"
   ]
  },
  {
   "cell_type": "code",
   "execution_count": 64,
   "metadata": {},
   "outputs": [],
   "source": [
    "input_df = df_train.drop(columns=['Price'])\n",
    "target = np.log(df_train['Price'])"
   ]
  },
  {
   "cell_type": "code",
   "execution_count": 65,
   "metadata": {},
   "outputs": [
    {
     "data": {
      "text/html": [
       "<div>\n",
       "<style scoped>\n",
       "    .dataframe tbody tr th:only-of-type {\n",
       "        vertical-align: middle;\n",
       "    }\n",
       "\n",
       "    .dataframe tbody tr th {\n",
       "        vertical-align: top;\n",
       "    }\n",
       "\n",
       "    .dataframe thead th {\n",
       "        text-align: right;\n",
       "    }\n",
       "</style>\n",
       "<table border=\"1\" class=\"dataframe\">\n",
       "  <thead>\n",
       "    <tr style=\"text-align: right;\">\n",
       "      <th></th>\n",
       "      <th>Levy</th>\n",
       "      <th>Manufacturer</th>\n",
       "      <th>Model</th>\n",
       "      <th>Category</th>\n",
       "      <th>Leather_interior</th>\n",
       "      <th>Fuel_type</th>\n",
       "      <th>Engine_volume</th>\n",
       "      <th>Mileage</th>\n",
       "      <th>Cylinders</th>\n",
       "      <th>Gear_box_type</th>\n",
       "      <th>Drive_wheels</th>\n",
       "      <th>Doors</th>\n",
       "      <th>Wheel</th>\n",
       "      <th>Color</th>\n",
       "      <th>Airbags</th>\n",
       "      <th>Turbo</th>\n",
       "      <th>Car_Age</th>\n",
       "    </tr>\n",
       "  </thead>\n",
       "  <tbody>\n",
       "    <tr>\n",
       "      <th>0</th>\n",
       "      <td>1399.0</td>\n",
       "      <td>LEXUS</td>\n",
       "      <td>RX 450</td>\n",
       "      <td>Jeep</td>\n",
       "      <td>1</td>\n",
       "      <td>Hybrid</td>\n",
       "      <td>3.5</td>\n",
       "      <td>186005.0</td>\n",
       "      <td>6.0</td>\n",
       "      <td>Automatic</td>\n",
       "      <td>4x4</td>\n",
       "      <td>4</td>\n",
       "      <td>Left wheel</td>\n",
       "      <td>Silver</td>\n",
       "      <td>12</td>\n",
       "      <td>0</td>\n",
       "      <td>11</td>\n",
       "    </tr>\n",
       "    <tr>\n",
       "      <th>1</th>\n",
       "      <td>1018.0</td>\n",
       "      <td>CHEVROLET</td>\n",
       "      <td>Equinox</td>\n",
       "      <td>Jeep</td>\n",
       "      <td>0</td>\n",
       "      <td>Petrol</td>\n",
       "      <td>3.0</td>\n",
       "      <td>192000.0</td>\n",
       "      <td>6.0</td>\n",
       "      <td>Tiptronic</td>\n",
       "      <td>4x4</td>\n",
       "      <td>4</td>\n",
       "      <td>Left wheel</td>\n",
       "      <td>Black</td>\n",
       "      <td>8</td>\n",
       "      <td>0</td>\n",
       "      <td>10</td>\n",
       "    </tr>\n",
       "  </tbody>\n",
       "</table>\n",
       "</div>"
      ],
      "text/plain": [
       "     Levy Manufacturer    Model Category  Leather_interior Fuel_type  \\\n",
       "0  1399.0        LEXUS   RX 450     Jeep                 1    Hybrid   \n",
       "1  1018.0    CHEVROLET  Equinox     Jeep                 0    Petrol   \n",
       "\n",
       "   Engine_volume   Mileage  Cylinders Gear_box_type Drive_wheels Doors  \\\n",
       "0            3.5  186005.0        6.0     Automatic          4x4     4   \n",
       "1            3.0  192000.0        6.0     Tiptronic          4x4     4   \n",
       "\n",
       "        Wheel   Color  Airbags  Turbo  Car_Age  \n",
       "0  Left wheel  Silver       12      0       11  \n",
       "1  Left wheel   Black        8      0       10  "
      ]
     },
     "execution_count": 65,
     "metadata": {},
     "output_type": "execute_result"
    }
   ],
   "source": [
    "input_df.head(2)"
   ]
  },
  {
   "cell_type": "code",
   "execution_count": 66,
   "metadata": {},
   "outputs": [
    {
     "data": {
      "text/plain": [
       "Index(['Levy', 'Manufacturer', 'Model', 'Category', 'Leather_interior',\n",
       "       'Fuel_type', 'Engine_volume', 'Mileage', 'Cylinders', 'Gear_box_type',\n",
       "       'Drive_wheels', 'Doors', 'Wheel', 'Color', 'Airbags', 'Turbo',\n",
       "       'Car_Age'],\n",
       "      dtype='object')"
      ]
     },
     "execution_count": 66,
     "metadata": {},
     "output_type": "execute_result"
    }
   ],
   "source": [
    "input_df.columns"
   ]
  },
  {
   "cell_type": "code",
   "execution_count": 67,
   "metadata": {},
   "outputs": [
    {
     "name": "stdout",
     "output_type": "stream",
     "text": [
      "Inside Target Encoding\n",
      "Inside Label Encoding\n",
      "Inside Ordinal Encoding\n",
      "Inside OneHot Encoding\n",
      "(18924, 17)\n",
      "(18924, 17)\n"
     ]
    }
   ],
   "source": [
    "#def data_encoder(ip_df,nom_list,ord_list,ohe_list,target_list):\n",
    "nom_list = ['Model','Manufacturer','Category','Fuel_type', 'Gear_box_type','Wheel', 'Color','Drive_wheels']\n",
    "ord_list = ['Doors']\n",
    "ohe_list = []\n",
    "target_list = []\n",
    "input_df_encoded_scaled = data_scaler(data_encoder(input_df,nom_list,ord_list,ohe_list,target_list))"
   ]
  },
  {
   "cell_type": "code",
   "execution_count": 68,
   "metadata": {},
   "outputs": [
    {
     "data": {
      "text/html": [
       "<div>\n",
       "<style scoped>\n",
       "    .dataframe tbody tr th:only-of-type {\n",
       "        vertical-align: middle;\n",
       "    }\n",
       "\n",
       "    .dataframe tbody tr th {\n",
       "        vertical-align: top;\n",
       "    }\n",
       "\n",
       "    .dataframe thead th {\n",
       "        text-align: right;\n",
       "    }\n",
       "</style>\n",
       "<table border=\"1\" class=\"dataframe\">\n",
       "  <thead>\n",
       "    <tr style=\"text-align: right;\">\n",
       "      <th></th>\n",
       "      <th>Levy</th>\n",
       "      <th>Manufacturer</th>\n",
       "      <th>Model</th>\n",
       "      <th>Category</th>\n",
       "      <th>Leather_interior</th>\n",
       "      <th>Fuel_type</th>\n",
       "      <th>Engine_volume</th>\n",
       "      <th>Mileage</th>\n",
       "      <th>Cylinders</th>\n",
       "      <th>Gear_box_type</th>\n",
       "      <th>Drive_wheels</th>\n",
       "      <th>Doors</th>\n",
       "      <th>Wheel</th>\n",
       "      <th>Color</th>\n",
       "      <th>Airbags</th>\n",
       "      <th>Turbo</th>\n",
       "      <th>Car_Age</th>\n",
       "    </tr>\n",
       "  </thead>\n",
       "  <tbody>\n",
       "    <tr>\n",
       "      <th>0</th>\n",
       "      <td>0.610251</td>\n",
       "      <td>0.515625</td>\n",
       "      <td>0.781348</td>\n",
       "      <td>0.4</td>\n",
       "      <td>1.0</td>\n",
       "      <td>0.333333</td>\n",
       "      <td>0.982143</td>\n",
       "      <td>0.000087</td>\n",
       "      <td>0.333333</td>\n",
       "      <td>0.0</td>\n",
       "      <td>0.0</td>\n",
       "      <td>0.5</td>\n",
       "      <td>0.0</td>\n",
       "      <td>0.8</td>\n",
       "      <td>0.75</td>\n",
       "      <td>0.0</td>\n",
       "      <td>0.5</td>\n",
       "    </tr>\n",
       "  </tbody>\n",
       "</table>\n",
       "</div>"
      ],
      "text/plain": [
       "       Levy  Manufacturer     Model  Category  Leather_interior  Fuel_type  \\\n",
       "0  0.610251      0.515625  0.781348       0.4               1.0   0.333333   \n",
       "\n",
       "   Engine_volume   Mileage  Cylinders  Gear_box_type  Drive_wheels  Doors  \\\n",
       "0       0.982143  0.000087   0.333333            0.0           0.0    0.5   \n",
       "\n",
       "   Wheel  Color  Airbags  Turbo  Car_Age  \n",
       "0    0.0    0.8     0.75    0.0      0.5  "
      ]
     },
     "execution_count": 68,
     "metadata": {},
     "output_type": "execute_result"
    }
   ],
   "source": [
    "input_df_encoded_scaled.head(1)"
   ]
  },
  {
   "cell_type": "markdown",
   "metadata": {},
   "source": [
    "### Model Building"
   ]
  },
  {
   "cell_type": "code",
   "execution_count": 69,
   "metadata": {},
   "outputs": [],
   "source": [
    "from sklearn.linear_model import LinearRegression\n",
    "from sklearn.linear_model import Ridge\n",
    "from sklearn.linear_model import Lasso\n",
    "from sklearn.linear_model import ElasticNet\n",
    "from sklearn.ensemble import RandomForestRegressor\n",
    "from sklearn.neighbors import KNeighborsRegressor\n",
    "from sklearn.tree import DecisionTreeRegressor\n",
    "import xgboost as xgb\n",
    "from sklearn.model_selection import RandomizedSearchCV\n",
    "from sklearn.model_selection import GridSearchCV\n",
    "from sklearn.metrics import make_scorer\n",
    "from sklearn.metrics import mean_squared_log_error\n",
    "from sklearn.model_selection import KFold\n",
    "from sklearn.model_selection import cross_val_score\n",
    "from sklearn import model_selection"
   ]
  },
  {
   "cell_type": "markdown",
   "metadata": {},
   "source": [
    "#### Preparing the baseline models"
   ]
  },
  {
   "cell_type": "code",
   "execution_count": 70,
   "metadata": {},
   "outputs": [],
   "source": [
    "# prepare models\n",
    "models = []\n",
    "models.append(('LR', LinearRegression()))\n",
    "models.append(('Ridge', Ridge()))\n",
    "models.append(('Lasso', Lasso()))\n",
    "models.append(('ENet', ElasticNet()))\n",
    "models.append(('KNN', KNeighborsRegressor()))\n",
    "models.append(('CART', DecisionTreeRegressor()))\n",
    "models.append(('RF', RandomForestRegressor()))\n",
    "models.append(('XGB', xgb.XGBRegressor()))"
   ]
  },
  {
   "cell_type": "code",
   "execution_count": 71,
   "metadata": {},
   "outputs": [
    {
     "data": {
      "text/plain": [
       "(18924, 17)"
      ]
     },
     "execution_count": 71,
     "metadata": {},
     "output_type": "execute_result"
    }
   ],
   "source": [
    "input_df_encoded_scaled.shape"
   ]
  },
  {
   "cell_type": "code",
   "execution_count": 72,
   "metadata": {},
   "outputs": [
    {
     "data": {
      "text/plain": [
       "(18924,)"
      ]
     },
     "execution_count": 72,
     "metadata": {},
     "output_type": "execute_result"
    }
   ],
   "source": [
    "target.shape"
   ]
  },
  {
   "cell_type": "code",
   "execution_count": 73,
   "metadata": {
    "scrolled": true
   },
   "outputs": [
    {
     "name": "stderr",
     "output_type": "stream",
     "text": [
      "[Parallel(n_jobs=1)]: Using backend SequentialBackend with 1 concurrent workers.\n",
      "[Parallel(n_jobs=1)]: Done  10 out of  10 | elapsed:    1.1s finished\n",
      "[Parallel(n_jobs=1)]: Using backend SequentialBackend with 1 concurrent workers.\n"
     ]
    },
    {
     "name": "stdout",
     "output_type": "stream",
     "text": [
      "LR: -1.470064 (0.027130)\n"
     ]
    },
    {
     "name": "stderr",
     "output_type": "stream",
     "text": [
      "[Parallel(n_jobs=1)]: Done  10 out of  10 | elapsed:    0.7s finished\n",
      "[Parallel(n_jobs=1)]: Using backend SequentialBackend with 1 concurrent workers.\n",
      "[Parallel(n_jobs=1)]: Done  10 out of  10 | elapsed:    0.0s finished\n",
      "[Parallel(n_jobs=1)]: Using backend SequentialBackend with 1 concurrent workers.\n"
     ]
    },
    {
     "name": "stdout",
     "output_type": "stream",
     "text": [
      "Ridge: -1.470020 (0.027136)\n",
      "Lasso: -1.588669 (0.032217)\n"
     ]
    },
    {
     "name": "stderr",
     "output_type": "stream",
     "text": [
      "[Parallel(n_jobs=1)]: Done  10 out of  10 | elapsed:    0.1s finished\n",
      "[Parallel(n_jobs=1)]: Using backend SequentialBackend with 1 concurrent workers.\n"
     ]
    },
    {
     "name": "stdout",
     "output_type": "stream",
     "text": [
      "ENet: -1.588669 (0.032217)\n"
     ]
    },
    {
     "name": "stderr",
     "output_type": "stream",
     "text": [
      "[Parallel(n_jobs=1)]: Done  10 out of  10 | elapsed:    3.0s finished\n",
      "[Parallel(n_jobs=1)]: Using backend SequentialBackend with 1 concurrent workers.\n"
     ]
    },
    {
     "name": "stdout",
     "output_type": "stream",
     "text": [
      "KNN: -1.076618 (0.033071)\n"
     ]
    },
    {
     "name": "stderr",
     "output_type": "stream",
     "text": [
      "[Parallel(n_jobs=1)]: Done  10 out of  10 | elapsed:    0.9s finished\n",
      "[Parallel(n_jobs=1)]: Using backend SequentialBackend with 1 concurrent workers.\n"
     ]
    },
    {
     "name": "stdout",
     "output_type": "stream",
     "text": [
      "CART: -1.324639 (0.049594)\n"
     ]
    },
    {
     "name": "stderr",
     "output_type": "stream",
     "text": [
      "[Parallel(n_jobs=1)]: Done  10 out of  10 | elapsed:  1.1min finished\n",
      "[Parallel(n_jobs=1)]: Using backend SequentialBackend with 1 concurrent workers.\n"
     ]
    },
    {
     "name": "stdout",
     "output_type": "stream",
     "text": [
      "RF: -0.961779 (0.026498)\n",
      "XGB: -0.992305 (0.020782)\n"
     ]
    },
    {
     "name": "stderr",
     "output_type": "stream",
     "text": [
      "[Parallel(n_jobs=1)]: Done  10 out of  10 | elapsed:   12.0s finished\n"
     ]
    }
   ],
   "source": [
    "# evaluate each model in turn\n",
    "results = []\n",
    "names = []\n",
    "seed = 42\n",
    "scoring = rmsle_scorer\n",
    "for name, model in models:\n",
    "\tkfold = model_selection.KFold(n_splits=10, random_state=seed)\n",
    "\tcv_results = model_selection.cross_val_score(model, input_df_encoded_scaled, target, cv=kfold, scoring=scoring,verbose=1)\n",
    "\tresults.append(cv_results)\n",
    "\tnames.append(name)\n",
    "\tmsg = \"%s: %f (%f)\" % (name, cv_results.mean(), cv_results.std())\n",
    "\tprint(msg)"
   ]
  },
  {
   "cell_type": "code",
   "execution_count": 74,
   "metadata": {},
   "outputs": [
    {
     "data": {
      "text/plain": [
       "(18924, 17)"
      ]
     },
     "execution_count": 74,
     "metadata": {},
     "output_type": "execute_result"
    }
   ],
   "source": [
    "input_df_encoded_scaled.shape"
   ]
  },
  {
   "cell_type": "code",
   "execution_count": 75,
   "metadata": {},
   "outputs": [
    {
     "name": "stdout",
     "output_type": "stream",
     "text": [
      "Fitting 10 folds for each of 24 candidates, totalling 240 fits\n"
     ]
    },
    {
     "name": "stderr",
     "output_type": "stream",
     "text": [
      "[Parallel(n_jobs=-1)]: Using backend LokyBackend with 8 concurrent workers.\n",
      "[Parallel(n_jobs=-1)]: Done  34 tasks      | elapsed:  1.5min\n",
      "[Parallel(n_jobs=-1)]: Done 184 tasks      | elapsed:  9.5min\n",
      "[Parallel(n_jobs=-1)]: Done 240 out of 240 | elapsed: 14.5min finished\n"
     ]
    },
    {
     "data": {
      "text/plain": [
       "GridSearchCV(cv=10, estimator=RandomForestRegressor(), n_jobs=-1,\n",
       "             param_grid={'max_depth': [10, 15], 'max_features': [5, 10, 17],\n",
       "                         'min_samples_split': [10, 20],\n",
       "                         'n_estimators': [300, 500]},\n",
       "             scoring=make_scorer(rmsle, greater_is_better=False), verbose=1)"
      ]
     },
     "execution_count": 75,
     "metadata": {},
     "output_type": "execute_result"
    },
    {
     "name": "stdout",
     "output_type": "stream",
     "text": [
      "-0.9647897782753689\n",
      "{'max_depth': 15, 'max_features': 10, 'min_samples_split': 10, 'n_estimators': 500}\n"
     ]
    }
   ],
   "source": [
    "estimator = RandomForestRegressor()\n",
    "param_grid = { \n",
    "            \"n_estimators\"      : [300,500],\n",
    "            \"max_features\"      : [5,10,17],\n",
    "            'max_depth': [10,15],\n",
    "            \"min_samples_split\" : [10,20]\n",
    "}\n",
    "\n",
    "grid = GridSearchCV(estimator, param_grid, n_jobs=-1, cv=10,scoring = rmsle_scorer,verbose=1)\n",
    "\n",
    "grid.fit(input_df_encoded_scaled, target)\n",
    "print(grid.best_score_)\n",
    "print(grid.best_params_)"
   ]
  },
  {
   "cell_type": "code",
   "execution_count": 76,
   "metadata": {},
   "outputs": [
    {
     "name": "stderr",
     "output_type": "stream",
     "text": [
      "[Parallel(n_jobs=-1)]: Using backend LokyBackend with 8 concurrent workers.\n",
      "[Parallel(n_jobs=-1)]: Done   6 out of  10 | elapsed:   18.2s remaining:   12.1s\n",
      "[Parallel(n_jobs=-1)]: Done  10 out of  10 | elapsed:   26.5s finished\n"
     ]
    },
    {
     "data": {
      "text/plain": [
       "-0.9338434048064179"
      ]
     },
     "execution_count": 76,
     "metadata": {},
     "output_type": "execute_result"
    }
   ],
   "source": [
    "rf_model = RandomForestRegressor(max_depth = 25, max_features = 10, min_samples_split = 5, n_estimators = 200)\n",
    "\n",
    "rf_cv = cross_val_score(rf_model,\n",
    "                             input_df_encoded_scaled, target, groups = None, scoring = rmsle_scorer, \n",
    "                             cv = 10, n_jobs = -1, verbose = 1)\n",
    "rf_cv.mean()"
   ]
  },
  {
   "cell_type": "code",
   "execution_count": 77,
   "metadata": {},
   "outputs": [
    {
     "data": {
      "text/plain": [
       "RandomForestRegressor(max_depth=25, max_features=10, min_samples_split=5,\n",
       "                      n_estimators=200)"
      ]
     },
     "execution_count": 77,
     "metadata": {},
     "output_type": "execute_result"
    }
   ],
   "source": [
    "rf_model.fit(input_df_encoded_scaled, target)"
   ]
  },
  {
   "cell_type": "code",
   "execution_count": 79,
   "metadata": {
    "scrolled": false
   },
   "outputs": [
    {
     "data": {
      "text/html": [
       "<div>\n",
       "<style scoped>\n",
       "    .dataframe tbody tr th:only-of-type {\n",
       "        vertical-align: middle;\n",
       "    }\n",
       "\n",
       "    .dataframe tbody tr th {\n",
       "        vertical-align: top;\n",
       "    }\n",
       "\n",
       "    .dataframe thead th {\n",
       "        text-align: right;\n",
       "    }\n",
       "</style>\n",
       "<table border=\"1\" class=\"dataframe\">\n",
       "  <thead>\n",
       "    <tr style=\"text-align: right;\">\n",
       "      <th></th>\n",
       "      <th>Feature Importance</th>\n",
       "    </tr>\n",
       "  </thead>\n",
       "  <tbody>\n",
       "    <tr>\n",
       "      <th>Airbags</th>\n",
       "      <td>0.175228</td>\n",
       "    </tr>\n",
       "    <tr>\n",
       "      <th>Mileage</th>\n",
       "      <td>0.167275</td>\n",
       "    </tr>\n",
       "    <tr>\n",
       "      <th>Car_Age</th>\n",
       "      <td>0.115568</td>\n",
       "    </tr>\n",
       "    <tr>\n",
       "      <th>Levy</th>\n",
       "      <td>0.094705</td>\n",
       "    </tr>\n",
       "    <tr>\n",
       "      <th>Gear_box_type</th>\n",
       "      <td>0.093801</td>\n",
       "    </tr>\n",
       "    <tr>\n",
       "      <th>Engine_volume</th>\n",
       "      <td>0.055635</td>\n",
       "    </tr>\n",
       "    <tr>\n",
       "      <th>Model</th>\n",
       "      <td>0.053799</td>\n",
       "    </tr>\n",
       "    <tr>\n",
       "      <th>Manufacturer</th>\n",
       "      <td>0.046426</td>\n",
       "    </tr>\n",
       "    <tr>\n",
       "      <th>Color</th>\n",
       "      <td>0.044486</td>\n",
       "    </tr>\n",
       "    <tr>\n",
       "      <th>Fuel_type</th>\n",
       "      <td>0.033300</td>\n",
       "    </tr>\n",
       "    <tr>\n",
       "      <th>Leather_interior</th>\n",
       "      <td>0.028728</td>\n",
       "    </tr>\n",
       "    <tr>\n",
       "      <th>Category</th>\n",
       "      <td>0.023126</td>\n",
       "    </tr>\n",
       "    <tr>\n",
       "      <th>Turbo</th>\n",
       "      <td>0.019658</td>\n",
       "    </tr>\n",
       "    <tr>\n",
       "      <th>Cylinders</th>\n",
       "      <td>0.019088</td>\n",
       "    </tr>\n",
       "    <tr>\n",
       "      <th>Drive_wheels</th>\n",
       "      <td>0.015761</td>\n",
       "    </tr>\n",
       "    <tr>\n",
       "      <th>Wheel</th>\n",
       "      <td>0.010118</td>\n",
       "    </tr>\n",
       "    <tr>\n",
       "      <th>Doors</th>\n",
       "      <td>0.003298</td>\n",
       "    </tr>\n",
       "  </tbody>\n",
       "</table>\n",
       "</div>"
      ],
      "text/plain": [
       "                  Feature Importance\n",
       "Airbags                     0.175228\n",
       "Mileage                     0.167275\n",
       "Car_Age                     0.115568\n",
       "Levy                        0.094705\n",
       "Gear_box_type               0.093801\n",
       "Engine_volume               0.055635\n",
       "Model                       0.053799\n",
       "Manufacturer                0.046426\n",
       "Color                       0.044486\n",
       "Fuel_type                   0.033300\n",
       "Leather_interior            0.028728\n",
       "Category                    0.023126\n",
       "Turbo                       0.019658\n",
       "Cylinders                   0.019088\n",
       "Drive_wheels                0.015761\n",
       "Wheel                       0.010118\n",
       "Doors                       0.003298"
      ]
     },
     "execution_count": 79,
     "metadata": {},
     "output_type": "execute_result"
    }
   ],
   "source": [
    "pd.DataFrame(rf_model.feature_importances_, index = input_df_encoded_scaled.columns, columns = ['Feature Importance']).sort_values(ascending = False, by = ['Feature Importance'])"
   ]
  },
  {
   "cell_type": "markdown",
   "metadata": {},
   "source": [
    "#### Predictions  on the test data"
   ]
  },
  {
   "cell_type": "code",
   "execution_count": 80,
   "metadata": {},
   "outputs": [
    {
     "name": "stdout",
     "output_type": "stream",
     "text": [
      "Inside Target Encoding\n",
      "Inside Label Encoding\n",
      "Inside Ordinal Encoding\n",
      "Inside OneHot Encoding\n",
      "(8245, 17)\n",
      "(8245, 17)\n"
     ]
    }
   ],
   "source": [
    "df_test = data_scaler(data_encoder(df_test,nom_list,ord_list,ohe_list,target_list))"
   ]
  },
  {
   "cell_type": "code",
   "execution_count": 81,
   "metadata": {},
   "outputs": [
    {
     "data": {
      "text/plain": [
       "array([15700.49612018,  5431.26684999,  5519.85868928, ...,\n",
       "        5247.51391987, 42333.56930538,   709.14986647])"
      ]
     },
     "execution_count": 81,
     "metadata": {},
     "output_type": "execute_result"
    }
   ],
   "source": [
    "rf_test_prediction = np.expm1(rf_model.predict(df_test))\n",
    "rf_test_prediction"
   ]
  },
  {
   "cell_type": "markdown",
   "metadata": {},
   "source": [
    "#### Final Submission"
   ]
  },
  {
   "cell_type": "code",
   "execution_count": null,
   "metadata": {},
   "outputs": [],
   "source": [
    "len(rf_test_prediction)"
   ]
  },
  {
   "cell_type": "code",
   "execution_count": null,
   "metadata": {},
   "outputs": [],
   "source": [
    "rf_test_prediction"
   ]
  },
  {
   "cell_type": "code",
   "execution_count": null,
   "metadata": {},
   "outputs": [],
   "source": [
    "solution_df = pd.DataFrame()\n",
    "#solution_df['Price'] = pd.Series(dl_test_prediction.flatten())\n",
    "solution_df['Price'] = rf_test_prediction\n",
    "solution_df"
   ]
  },
  {
   "cell_type": "code",
   "execution_count": null,
   "metadata": {},
   "outputs": [],
   "source": [
    "solution_df.to_csv('Submission_v6_1.csv',index=False)"
   ]
  },
  {
   "cell_type": "markdown",
   "metadata": {},
   "source": [
    "### Using Exhaustive Feature Selection"
   ]
  },
  {
   "cell_type": "code",
   "execution_count": null,
   "metadata": {},
   "outputs": [],
   "source": [
    "# from mlxtend.feature_selection import ExhaustiveFeatureSelector"
   ]
  },
  {
   "cell_type": "code",
   "execution_count": null,
   "metadata": {},
   "outputs": [],
   "source": [
    "# efs = ExhaustiveFeatureSelector(RandomForestRegressor(),\n",
    "#                                min_features=4,\n",
    "#                                max_features=8,\n",
    "#                                scoring=scoring,\n",
    "#                                cv=5)"
   ]
  },
  {
   "cell_type": "code",
   "execution_count": null,
   "metadata": {},
   "outputs": [],
   "source": [
    "# efs = efs.fit(input_df_encoded_scaled,target)"
   ]
  },
  {
   "cell_type": "code",
   "execution_count": null,
   "metadata": {},
   "outputs": [],
   "source": [
    "# selected_features = X_train.columns(list(efs.best_idx_))\n",
    "# print(selected_features)\n",
    "# print(efs.best_score_)"
   ]
  }
 ],
 "metadata": {
  "kernelspec": {
   "display_name": "Python 3",
   "language": "python",
   "name": "python3"
  },
  "language_info": {
   "codemirror_mode": {
    "name": "ipython",
    "version": 3
   },
   "file_extension": ".py",
   "mimetype": "text/x-python",
   "name": "python",
   "nbconvert_exporter": "python",
   "pygments_lexer": "ipython3",
   "version": "3.7.4"
  }
 },
 "nbformat": 4,
 "nbformat_minor": 4
}
